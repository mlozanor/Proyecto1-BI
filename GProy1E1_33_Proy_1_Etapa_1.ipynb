{
  "cells": [
    {
      "cell_type": "markdown",
      "metadata": {
        "id": "i6vTT5nVddYL"
      },
      "source": [
        "#Proyecto analítica de textos etapa 1\n",
        "\n",
        "Estudiantes:\n",
        "1. Mariana Lozano Roncancio 202122878\n",
        "2. Isabella Lozano Roncancio 202221012\n",
        "3. Catalina Alvarez Latorre 202220307\n",
        "\n",
        "#Rubrica/Entregables\n",
        "\n",
        "| Concepto | Porcentaje |\n",
        "|----------|-----------|\n",
        "|Documentación del proceso de aprendizaje automático|20%|\n",
        "|Entendimiento y preparación de los datos (a nivel de código y análisis)|20%|\n",
        "|Modelado y evaluación|20%|\n",
        "|Resultados|20%|\n",
        "|Trabajo en equipo|8%|\n",
        "|Sustentacion y trabajo individual|12%|"
      ]
    },
    {
      "cell_type": "markdown",
      "metadata": {
        "id": "dWCNiY6hR1Xd"
      },
      "source": [
        "#Problema\n",
        "\n",
        "En la era digital, la proliferación de noticias falsas representa una amenaza significativa para la sociedad, especialmente en el ámbito político, donde pueden influir en la opinión pública y en la estabilidad democrática. Este proyecto busca desarrollar un modelo de analítica de textos basado en aprendizaje automático para la detección de noticias falsas en política. Utilizando un conjunto de datos de noticias provenientes de diversas fuentes periodísticas, el objetivo es identificar patrones lingüísticos y términos característicos que permitan diferenciar entre información veraz y desinformación. La implementación de este modelo no solo permitirá mejorar la precisión en la clasificación de noticias, sino que también ofrecerá herramientas analíticas para mitigar el impacto de la desinformación en la toma de decisiones de ciudadanos y organizaciones."
      ]
    },
    {
      "cell_type": "markdown",
      "metadata": {
        "id": "QnbPgeqLSfex"
      },
      "source": [
        "# Reflexion"
      ]
    },
    {
      "cell_type": "markdown",
      "metadata": {
        "id": "4CVRXS2RSiIU"
      },
      "source": [
        "En un mundo donde la información fluye a gran velocidad, la desinformación se ha convertido en un desafío crítico que afecta la percepción de la realidad y la toma de decisiones en distintos ámbitos, especialmente en la política. La difusión de noticias falsas puede generar polarización, socavar la confianza en las instituciones y manipular la opinión pública con fines estratégicos. Por ello, el desarrollo de modelos de analítica de textos basados en inteligencia artificial no solo es una herramienta tecnológica, sino también una responsabilidad social. Si bien los algoritmos pueden ayudar a detectar patrones y clasificar noticias con mayor precisión, es fundamental complementar estas soluciones con estrategias de alfabetización mediática y regulación ética. Solo con un enfoque integral podremos contrarrestar eficazmente los efectos negativos de la desinformación y fortalecer una sociedad más informada y resiliente.\n",
        "\n"
      ]
    },
    {
      "cell_type": "markdown",
      "metadata": {
        "id": "BPVzg77PSkKY"
      },
      "source": [
        "#1. Instalacion de librerias"
      ]
    },
    {
      "cell_type": "code",
      "execution_count": 18,
      "metadata": {
        "colab": {
          "base_uri": "https://localhost:8080/"
        },
        "id": "-Wu2nH5ecgV-",
        "outputId": "a08562ab-fdf1-46f7-dfc3-c640c36fa26e"
      },
      "outputs": [
        {
          "name": "stdout",
          "output_type": "stream",
          "text": [
            "Requirement already satisfied: contractions in c:\\users\\marianalozano\\appdata\\local\\programs\\python\\python312\\lib\\site-packages (0.1.73)\n",
            "Requirement already satisfied: textsearch>=0.0.21 in c:\\users\\marianalozano\\appdata\\local\\programs\\python\\python312\\lib\\site-packages (from contractions) (0.0.24)\n",
            "Requirement already satisfied: anyascii in c:\\users\\marianalozano\\appdata\\local\\programs\\python\\python312\\lib\\site-packages (from textsearch>=0.0.21->contractions) (0.3.2)\n",
            "Requirement already satisfied: pyahocorasick in c:\\users\\marianalozano\\appdata\\local\\programs\\python\\python312\\lib\\site-packages (from textsearch>=0.0.21->contractions) (2.1.0)\n"
          ]
        },
        {
          "name": "stderr",
          "output_type": "stream",
          "text": [
            "\n",
            "[notice] A new release of pip is available: 24.0 -> 25.0.1\n",
            "[notice] To update, run: python.exe -m pip install --upgrade pip\n"
          ]
        }
      ],
      "source": [
        "# Librería para manejar las contracciones que se presentan en el inglés.\n",
        "!pip install contractions"
      ]
    },
    {
      "cell_type": "code",
      "execution_count": 19,
      "metadata": {
        "colab": {
          "base_uri": "https://localhost:8080/"
        },
        "id": "7ehf9MqWS40_",
        "outputId": "25351874-2b09-4b3c-e370-0350eb47ab18"
      },
      "outputs": [
        {
          "name": "stdout",
          "output_type": "stream",
          "text": [
            "Requirement already satisfied: spacy in c:\\users\\marianalozano\\appdata\\local\\programs\\python\\python312\\lib\\site-packages (3.8.4)"
          ]
        },
        {
          "name": "stderr",
          "output_type": "stream",
          "text": [
            "\n",
            "[notice] A new release of pip is available: 24.0 -> 25.0.1\n",
            "[notice] To update, run: python.exe -m pip install --upgrade pip\n"
          ]
        },
        {
          "name": "stdout",
          "output_type": "stream",
          "text": [
            "\n",
            "Requirement already satisfied: spacy-legacy<3.1.0,>=3.0.11 in c:\\users\\marianalozano\\appdata\\local\\programs\\python\\python312\\lib\\site-packages (from spacy) (3.0.12)\n",
            "Requirement already satisfied: spacy-loggers<2.0.0,>=1.0.0 in c:\\users\\marianalozano\\appdata\\local\\programs\\python\\python312\\lib\\site-packages (from spacy) (1.0.5)\n",
            "Requirement already satisfied: murmurhash<1.1.0,>=0.28.0 in c:\\users\\marianalozano\\appdata\\local\\programs\\python\\python312\\lib\\site-packages (from spacy) (1.0.12)\n",
            "Requirement already satisfied: cymem<2.1.0,>=2.0.2 in c:\\users\\marianalozano\\appdata\\local\\programs\\python\\python312\\lib\\site-packages (from spacy) (2.0.11)\n",
            "Requirement already satisfied: preshed<3.1.0,>=3.0.2 in c:\\users\\marianalozano\\appdata\\local\\programs\\python\\python312\\lib\\site-packages (from spacy) (3.0.9)\n",
            "Requirement already satisfied: thinc<8.4.0,>=8.3.4 in c:\\users\\marianalozano\\appdata\\local\\programs\\python\\python312\\lib\\site-packages (from spacy) (8.3.4)\n",
            "Requirement already satisfied: wasabi<1.2.0,>=0.9.1 in c:\\users\\marianalozano\\appdata\\local\\programs\\python\\python312\\lib\\site-packages (from spacy) (1.1.3)\n",
            "Requirement already satisfied: srsly<3.0.0,>=2.4.3 in c:\\users\\marianalozano\\appdata\\local\\programs\\python\\python312\\lib\\site-packages (from spacy) (2.5.1)\n",
            "Requirement already satisfied: catalogue<2.1.0,>=2.0.6 in c:\\users\\marianalozano\\appdata\\local\\programs\\python\\python312\\lib\\site-packages (from spacy) (2.0.10)\n",
            "Requirement already satisfied: weasel<0.5.0,>=0.1.0 in c:\\users\\marianalozano\\appdata\\local\\programs\\python\\python312\\lib\\site-packages (from spacy) (0.4.1)\n",
            "Requirement already satisfied: typer<1.0.0,>=0.3.0 in c:\\users\\marianalozano\\appdata\\local\\programs\\python\\python312\\lib\\site-packages (from spacy) (0.12.5)\n",
            "Requirement already satisfied: tqdm<5.0.0,>=4.38.0 in c:\\users\\marianalozano\\appdata\\local\\programs\\python\\python312\\lib\\site-packages (from spacy) (4.66.5)\n",
            "Requirement already satisfied: numpy>=1.19.0 in c:\\users\\marianalozano\\appdata\\local\\programs\\python\\python312\\lib\\site-packages (from spacy) (2.1.2)\n",
            "Requirement already satisfied: requests<3.0.0,>=2.13.0 in c:\\users\\marianalozano\\appdata\\local\\programs\\python\\python312\\lib\\site-packages (from spacy) (2.32.3)\n",
            "Requirement already satisfied: pydantic!=1.8,!=1.8.1,<3.0.0,>=1.7.4 in c:\\users\\marianalozano\\appdata\\local\\programs\\python\\python312\\lib\\site-packages (from spacy) (2.9.2)\n",
            "Requirement already satisfied: jinja2 in c:\\users\\marianalozano\\appdata\\local\\programs\\python\\python312\\lib\\site-packages (from spacy) (3.1.4)\n",
            "Requirement already satisfied: setuptools in c:\\users\\marianalozano\\appdata\\local\\programs\\python\\python312\\lib\\site-packages (from spacy) (75.8.0)\n",
            "Requirement already satisfied: packaging>=20.0 in c:\\users\\marianalozano\\appdata\\local\\programs\\python\\python312\\lib\\site-packages (from spacy) (24.2)\n",
            "Requirement already satisfied: langcodes<4.0.0,>=3.2.0 in c:\\users\\marianalozano\\appdata\\local\\programs\\python\\python312\\lib\\site-packages (from spacy) (3.5.0)\n",
            "Requirement already satisfied: language-data>=1.2 in c:\\users\\marianalozano\\appdata\\local\\programs\\python\\python312\\lib\\site-packages (from langcodes<4.0.0,>=3.2.0->spacy) (1.3.0)\n",
            "Requirement already satisfied: annotated-types>=0.6.0 in c:\\users\\marianalozano\\appdata\\local\\programs\\python\\python312\\lib\\site-packages (from pydantic!=1.8,!=1.8.1,<3.0.0,>=1.7.4->spacy) (0.7.0)\n",
            "Requirement already satisfied: pydantic-core==2.23.4 in c:\\users\\marianalozano\\appdata\\local\\programs\\python\\python312\\lib\\site-packages (from pydantic!=1.8,!=1.8.1,<3.0.0,>=1.7.4->spacy) (2.23.4)\n",
            "Requirement already satisfied: typing-extensions>=4.6.1 in c:\\users\\marianalozano\\appdata\\local\\programs\\python\\python312\\lib\\site-packages (from pydantic!=1.8,!=1.8.1,<3.0.0,>=1.7.4->spacy) (4.12.2)\n",
            "Requirement already satisfied: charset-normalizer<4,>=2 in c:\\users\\marianalozano\\appdata\\local\\programs\\python\\python312\\lib\\site-packages (from requests<3.0.0,>=2.13.0->spacy) (3.4.1)\n",
            "Requirement already satisfied: idna<4,>=2.5 in c:\\users\\marianalozano\\appdata\\local\\programs\\python\\python312\\lib\\site-packages (from requests<3.0.0,>=2.13.0->spacy) (3.10)\n",
            "Requirement already satisfied: urllib3<3,>=1.21.1 in c:\\users\\marianalozano\\appdata\\local\\programs\\python\\python312\\lib\\site-packages (from requests<3.0.0,>=2.13.0->spacy) (2.3.0)\n",
            "Requirement already satisfied: certifi>=2017.4.17 in c:\\users\\marianalozano\\appdata\\local\\programs\\python\\python312\\lib\\site-packages (from requests<3.0.0,>=2.13.0->spacy) (2024.8.30)\n",
            "Requirement already satisfied: blis<1.3.0,>=1.2.0 in c:\\users\\marianalozano\\appdata\\local\\programs\\python\\python312\\lib\\site-packages (from thinc<8.4.0,>=8.3.4->spacy) (1.2.0)\n",
            "Requirement already satisfied: confection<1.0.0,>=0.0.1 in c:\\users\\marianalozano\\appdata\\local\\programs\\python\\python312\\lib\\site-packages (from thinc<8.4.0,>=8.3.4->spacy) (0.1.5)\n",
            "Requirement already satisfied: colorama in c:\\users\\marianalozano\\appdata\\local\\programs\\python\\python312\\lib\\site-packages (from tqdm<5.0.0,>=4.38.0->spacy) (0.4.6)\n",
            "Requirement already satisfied: click>=8.0.0 in c:\\users\\marianalozano\\appdata\\local\\programs\\python\\python312\\lib\\site-packages (from typer<1.0.0,>=0.3.0->spacy) (8.1.7)\n",
            "Requirement already satisfied: shellingham>=1.3.0 in c:\\users\\marianalozano\\appdata\\local\\programs\\python\\python312\\lib\\site-packages (from typer<1.0.0,>=0.3.0->spacy) (1.5.4)\n",
            "Requirement already satisfied: rich>=10.11.0 in c:\\users\\marianalozano\\appdata\\local\\programs\\python\\python312\\lib\\site-packages (from typer<1.0.0,>=0.3.0->spacy) (13.9.2)\n",
            "Requirement already satisfied: cloudpathlib<1.0.0,>=0.7.0 in c:\\users\\marianalozano\\appdata\\local\\programs\\python\\python312\\lib\\site-packages (from weasel<0.5.0,>=0.1.0->spacy) (0.20.0)\n",
            "Requirement already satisfied: smart-open<8.0.0,>=5.2.1 in c:\\users\\marianalozano\\appdata\\local\\programs\\python\\python312\\lib\\site-packages (from weasel<0.5.0,>=0.1.0->spacy) (7.1.0)\n",
            "Requirement already satisfied: MarkupSafe>=2.0 in c:\\users\\marianalozano\\appdata\\local\\programs\\python\\python312\\lib\\site-packages (from jinja2->spacy) (2.1.5)\n",
            "Requirement already satisfied: marisa-trie>=1.1.0 in c:\\users\\marianalozano\\appdata\\local\\programs\\python\\python312\\lib\\site-packages (from language-data>=1.2->langcodes<4.0.0,>=3.2.0->spacy) (1.2.1)\n",
            "Requirement already satisfied: markdown-it-py>=2.2.0 in c:\\users\\marianalozano\\appdata\\local\\programs\\python\\python312\\lib\\site-packages (from rich>=10.11.0->typer<1.0.0,>=0.3.0->spacy) (3.0.0)\n",
            "Requirement already satisfied: pygments<3.0.0,>=2.13.0 in c:\\users\\marianalozano\\appdata\\local\\programs\\python\\python312\\lib\\site-packages (from rich>=10.11.0->typer<1.0.0,>=0.3.0->spacy) (2.18.0)\n",
            "Requirement already satisfied: wrapt in c:\\users\\marianalozano\\appdata\\local\\programs\\python\\python312\\lib\\site-packages (from smart-open<8.0.0,>=5.2.1->weasel<0.5.0,>=0.1.0->spacy) (1.17.2)\n",
            "Requirement already satisfied: mdurl~=0.1 in c:\\users\\marianalozano\\appdata\\local\\programs\\python\\python312\\lib\\site-packages (from markdown-it-py>=2.2.0->rich>=10.11.0->typer<1.0.0,>=0.3.0->spacy) (0.1.2)\n",
            "Collecting es-core-news-sm==3.8.0\n",
            "  Downloading https://github.com/explosion/spacy-models/releases/download/es_core_news_sm-3.8.0/es_core_news_sm-3.8.0-py3-none-any.whl (12.9 MB)\n",
            "     ---------------------------------------- 0.0/12.9 MB ? eta -:--:--\n",
            "     ---------------------------------------- 0.0/12.9 MB ? eta -:--:--\n",
            "     --------------------------------------- 0.0/12.9 MB 262.6 kB/s eta 0:00:49\n",
            "     --------------------------------------- 0.1/12.9 MB 901.1 kB/s eta 0:00:15\n",
            "     - -------------------------------------- 0.6/12.9 MB 3.4 MB/s eta 0:00:04\n",
            "     --- ------------------------------------ 1.2/12.9 MB 5.5 MB/s eta 0:00:03\n",
            "     ----- ---------------------------------- 1.7/12.9 MB 6.3 MB/s eta 0:00:02\n",
            "     ------ --------------------------------- 2.1/12.9 MB 6.8 MB/s eta 0:00:02\n",
            "     -------- ------------------------------- 2.7/12.9 MB 7.6 MB/s eta 0:00:02\n",
            "     ---------- ----------------------------- 3.3/12.9 MB 8.2 MB/s eta 0:00:02\n",
            "     ----------- ---------------------------- 3.6/12.9 MB 8.0 MB/s eta 0:00:02\n",
            "     ------------ --------------------------- 4.1/12.9 MB 8.1 MB/s eta 0:00:02\n",
            "     -------------- ------------------------- 4.6/12.9 MB 8.4 MB/s eta 0:00:01\n",
            "     --------------- ------------------------ 5.0/12.9 MB 8.4 MB/s eta 0:00:01\n",
            "     ----------------- ---------------------- 5.5/12.9 MB 8.6 MB/s eta 0:00:01\n",
            "     ------------------- -------------------- 6.3/12.9 MB 8.7 MB/s eta 0:00:01\n",
            "     -------------------- ------------------- 6.7/12.9 MB 8.7 MB/s eta 0:00:01\n",
            "     ---------------------- ----------------- 7.1/12.9 MB 9.0 MB/s eta 0:00:01\n",
            "     ----------------------- ---------------- 7.7/12.9 MB 9.1 MB/s eta 0:00:01\n",
            "     ------------------------ --------------- 8.0/12.9 MB 9.0 MB/s eta 0:00:01\n",
            "     -------------------------- ------------- 8.5/12.9 MB 9.1 MB/s eta 0:00:01\n",
            "     --------------------------- ------------ 8.9/12.9 MB 9.1 MB/s eta 0:00:01\n",
            "     ----------------------------- ---------- 9.4/12.9 MB 9.0 MB/s eta 0:00:01\n",
            "     ------------------------------ --------- 10.0/12.9 MB 9.1 MB/s eta 0:00:01\n",
            "     ------------------------------- ------- 10.5/12.9 MB 10.2 MB/s eta 0:00:01\n",
            "     --------------------------------- ----- 11.0/12.9 MB 10.2 MB/s eta 0:00:01\n",
            "     ---------------------------------- ---- 11.5/12.9 MB 10.2 MB/s eta 0:00:01\n",
            "     ------------------------------------ -- 12.0/12.9 MB 10.2 MB/s eta 0:00:01\n",
            "     ------------------------------------- - 12.5/12.9 MB 10.2 MB/s eta 0:00:01\n",
            "     --------------------------------------  12.9/12.9 MB 10.2 MB/s eta 0:00:01\n",
            "     ---------------------------------------- 12.9/12.9 MB 9.8 MB/s eta 0:00:00\n",
            "\u001b[38;5;2m✔ Download and installation successful\u001b[0m\n",
            "You can now load the package via spacy.load('es_core_news_sm')\n"
          ]
        },
        {
          "name": "stderr",
          "output_type": "stream",
          "text": [
            "\n",
            "[notice] A new release of pip is available: 24.0 -> 25.0.1\n",
            "[notice] To update, run: python.exe -m pip install --upgrade pip\n"
          ]
        },
        {
          "name": "stdout",
          "output_type": "stream",
          "text": [
            "Requirement already satisfied: ydata-profiling in c:\\users\\marianalozano\\appdata\\local\\programs\\python\\python312\\lib\\site-packages (4.12.2)\n",
            "Requirement already satisfied: scipy<1.16,>=1.4.1 in c:\\users\\marianalozano\\appdata\\local\\programs\\python\\python312\\lib\\site-packages (from ydata-profiling) (1.14.1)\n",
            "Requirement already satisfied: pandas!=1.4.0,<3,>1.1 in c:\\users\\marianalozano\\appdata\\local\\programs\\python\\python312\\lib\\site-packages (from ydata-profiling) (2.2.3)\n",
            "Requirement already satisfied: matplotlib>=3.5 in c:\\users\\marianalozano\\appdata\\local\\programs\\python\\python312\\lib\\site-packages (from ydata-profiling) (3.10.0)\n",
            "Requirement already satisfied: pydantic>=2 in c:\\users\\marianalozano\\appdata\\local\\programs\\python\\python312\\lib\\site-packages (from ydata-profiling) (2.9.2)\n",
            "Requirement already satisfied: PyYAML<6.1,>=5.0.0 in c:\\users\\marianalozano\\appdata\\local\\programs\\python\\python312\\lib\\site-packages (from ydata-profiling) (6.0.2)\n",
            "Requirement already satisfied: jinja2<3.2,>=2.11.1 in c:\\users\\marianalozano\\appdata\\local\\programs\\python\\python312\\lib\\site-packages (from ydata-profiling) (3.1.4)\n",
            "Collecting visions<0.8.0,>=0.7.5 (from visions[type_image_path]<0.8.0,>=0.7.5->ydata-profiling)\n",
            "  Using cached visions-0.7.6-py3-none-any.whl.metadata (11 kB)\n",
            "Requirement already satisfied: numpy<2.2,>=1.16.0 in c:\\users\\marianalozano\\appdata\\local\\programs\\python\\python312\\lib\\site-packages (from ydata-profiling) (2.1.2)\n",
            "Requirement already satisfied: htmlmin==0.1.12 in c:\\users\\marianalozano\\appdata\\local\\programs\\python\\python312\\lib\\site-packages (from ydata-profiling) (0.1.12)\n",
            "Requirement already satisfied: phik<0.13,>=0.11.1 in c:\\users\\marianalozano\\appdata\\local\\programs\\python\\python312\\lib\\site-packages (from ydata-profiling) (0.12.4)\n",
            "Requirement already satisfied: requests<3,>=2.24.0 in c:\\users\\marianalozano\\appdata\\local\\programs\\python\\python312\\lib\\site-packages (from ydata-profiling) (2.32.3)\n",
            "Requirement already satisfied: tqdm<5,>=4.48.2 in c:\\users\\marianalozano\\appdata\\local\\programs\\python\\python312\\lib\\site-packages (from ydata-profiling) (4.66.5)\n",
            "Requirement already satisfied: seaborn<0.14,>=0.10.1 in c:\\users\\marianalozano\\appdata\\local\\programs\\python\\python312\\lib\\site-packages (from ydata-profiling) (0.13.2)\n",
            "Requirement already satisfied: multimethod<2,>=1.4 in c:\\users\\marianalozano\\appdata\\local\\programs\\python\\python312\\lib\\site-packages (from ydata-profiling) (1.12)\n",
            "Requirement already satisfied: statsmodels<1,>=0.13.2 in c:\\users\\marianalozano\\appdata\\local\\programs\\python\\python312\\lib\\site-packages (from ydata-profiling) (0.14.4)\n",
            "Requirement already satisfied: typeguard<5,>=3 in c:\\users\\marianalozano\\appdata\\local\\programs\\python\\python312\\lib\\site-packages (from ydata-profiling) (4.4.2)\n",
            "Requirement already satisfied: imagehash==4.3.1 in c:\\users\\marianalozano\\appdata\\local\\programs\\python\\python312\\lib\\site-packages (from ydata-profiling) (4.3.1)\n",
            "Requirement already satisfied: wordcloud>=1.9.3 in c:\\users\\marianalozano\\appdata\\local\\programs\\python\\python312\\lib\\site-packages (from ydata-profiling) (1.9.4)\n",
            "Requirement already satisfied: dacite>=1.8 in c:\\users\\marianalozano\\appdata\\local\\programs\\python\\python312\\lib\\site-packages (from ydata-profiling) (1.9.2)\n",
            "Requirement already satisfied: PyWavelets in c:\\users\\marianalozano\\appdata\\local\\programs\\python\\python312\\lib\\site-packages (from imagehash==4.3.1->ydata-profiling) (1.8.0)\n",
            "Requirement already satisfied: pillow in c:\\users\\marianalozano\\appdata\\local\\programs\\python\\python312\\lib\\site-packages (from imagehash==4.3.1->ydata-profiling) (11.1.0)\n",
            "Requirement already satisfied: MarkupSafe>=2.0 in c:\\users\\marianalozano\\appdata\\local\\programs\\python\\python312\\lib\\site-packages (from jinja2<3.2,>=2.11.1->ydata-profiling) (2.1.5)\n",
            "Requirement already satisfied: contourpy>=1.0.1 in c:\\users\\marianalozano\\appdata\\local\\programs\\python\\python312\\lib\\site-packages (from matplotlib>=3.5->ydata-profiling) (1.3.1)\n",
            "Requirement already satisfied: cycler>=0.10 in c:\\users\\marianalozano\\appdata\\local\\programs\\python\\python312\\lib\\site-packages (from matplotlib>=3.5->ydata-profiling) (0.12.1)\n",
            "Requirement already satisfied: fonttools>=4.22.0 in c:\\users\\marianalozano\\appdata\\local\\programs\\python\\python312\\lib\\site-packages (from matplotlib>=3.5->ydata-profiling) (4.56.0)\n",
            "Requirement already satisfied: kiwisolver>=1.3.1 in c:\\users\\marianalozano\\appdata\\local\\programs\\python\\python312\\lib\\site-packages (from matplotlib>=3.5->ydata-profiling) (1.4.8)\n",
            "Requirement already satisfied: packaging>=20.0 in c:\\users\\marianalozano\\appdata\\local\\programs\\python\\python312\\lib\\site-packages (from matplotlib>=3.5->ydata-profiling) (24.2)\n",
            "Requirement already satisfied: pyparsing>=2.3.1 in c:\\users\\marianalozano\\appdata\\local\\programs\\python\\python312\\lib\\site-packages (from matplotlib>=3.5->ydata-profiling) (3.2.1)\n",
            "Requirement already satisfied: python-dateutil>=2.7 in c:\\users\\marianalozano\\appdata\\local\\programs\\python\\python312\\lib\\site-packages (from matplotlib>=3.5->ydata-profiling) (2.9.0.post0)\n",
            "Requirement already satisfied: pytz>=2020.1 in c:\\users\\marianalozano\\appdata\\local\\programs\\python\\python312\\lib\\site-packages (from pandas!=1.4.0,<3,>1.1->ydata-profiling) (2024.2)\n",
            "Requirement already satisfied: tzdata>=2022.7 in c:\\users\\marianalozano\\appdata\\local\\programs\\python\\python312\\lib\\site-packages (from pandas!=1.4.0,<3,>1.1->ydata-profiling) (2024.2)\n",
            "Requirement already satisfied: joblib>=0.14.1 in c:\\users\\marianalozano\\appdata\\local\\programs\\python\\python312\\lib\\site-packages (from phik<0.13,>=0.11.1->ydata-profiling) (1.1.1)\n",
            "Requirement already satisfied: annotated-types>=0.6.0 in c:\\users\\marianalozano\\appdata\\local\\programs\\python\\python312\\lib\\site-packages (from pydantic>=2->ydata-profiling) (0.7.0)\n",
            "Requirement already satisfied: pydantic-core==2.23.4 in c:\\users\\marianalozano\\appdata\\local\\programs\\python\\python312\\lib\\site-packages (from pydantic>=2->ydata-profiling) (2.23.4)\n",
            "Requirement already satisfied: typing-extensions>=4.6.1 in c:\\users\\marianalozano\\appdata\\local\\programs\\python\\python312\\lib\\site-packages (from pydantic>=2->ydata-profiling) (4.12.2)\n",
            "Requirement already satisfied: charset-normalizer<4,>=2 in c:\\users\\marianalozano\\appdata\\local\\programs\\python\\python312\\lib\\site-packages (from requests<3,>=2.24.0->ydata-profiling) (3.4.1)\n",
            "Requirement already satisfied: idna<4,>=2.5 in c:\\users\\marianalozano\\appdata\\local\\programs\\python\\python312\\lib\\site-packages (from requests<3,>=2.24.0->ydata-profiling) (3.10)\n",
            "Requirement already satisfied: urllib3<3,>=1.21.1 in c:\\users\\marianalozano\\appdata\\local\\programs\\python\\python312\\lib\\site-packages (from requests<3,>=2.24.0->ydata-profiling) (2.3.0)\n",
            "Requirement already satisfied: certifi>=2017.4.17 in c:\\users\\marianalozano\\appdata\\local\\programs\\python\\python312\\lib\\site-packages (from requests<3,>=2.24.0->ydata-profiling) (2024.8.30)\n",
            "Requirement already satisfied: patsy>=0.5.6 in c:\\users\\marianalozano\\appdata\\local\\programs\\python\\python312\\lib\\site-packages (from statsmodels<1,>=0.13.2->ydata-profiling) (1.0.1)\n",
            "Requirement already satisfied: colorama in c:\\users\\marianalozano\\appdata\\local\\programs\\python\\python312\\lib\\site-packages (from tqdm<5,>=4.48.2->ydata-profiling) (0.4.6)\n",
            "Requirement already satisfied: attrs>=19.3.0 in c:\\users\\marianalozano\\appdata\\local\\programs\\python\\python312\\lib\\site-packages (from visions<0.8.0,>=0.7.5->visions[type_image_path]<0.8.0,>=0.7.5->ydata-profiling) (24.3.0)\n",
            "Requirement already satisfied: networkx>=2.4 in c:\\users\\marianalozano\\appdata\\local\\programs\\python\\python312\\lib\\site-packages (from visions<0.8.0,>=0.7.5->visions[type_image_path]<0.8.0,>=0.7.5->ydata-profiling) (3.4.2)\n",
            "Requirement already satisfied: six>=1.5 in c:\\users\\marianalozano\\appdata\\local\\programs\\python\\python312\\lib\\site-packages (from python-dateutil>=2.7->matplotlib>=3.5->ydata-profiling) (1.16.0)\n",
            "Using cached visions-0.7.6-py3-none-any.whl (104 kB)\n",
            "Installing collected packages: visions\n",
            "  Attempting uninstall: visions\n",
            "    Found existing installation: visions 0.7.4\n",
            "    Uninstalling visions-0.7.4:\n",
            "      Successfully uninstalled visions-0.7.4\n",
            "Successfully installed visions-0.7.6\n"
          ]
        },
        {
          "name": "stderr",
          "output_type": "stream",
          "text": [
            "ERROR: pip's dependency resolver does not currently take into account all the packages that are installed. This behaviour is the source of the following dependency conflicts.\n",
            "pandas-profiling 3.2.0 requires visions[type_image_path]==0.7.4, but you have visions 0.7.6 which is incompatible.\n",
            "\n",
            "[notice] A new release of pip is available: 24.0 -> 25.0.1\n",
            "[notice] To update, run: python.exe -m pip install --upgrade pip\n"
          ]
        }
      ],
      "source": [
        "# librería para manejar las flexiones gramaticales en el idioma espanol.\n",
        "\n",
        "# librería para manejar las flexiones gramaticales en el idioma espanol.\n",
        "!pip install spacy\n",
        "!python -m spacy download es_core_news_sm\n",
        "!pip install ydata-profiling\n"
      ]
    },
    {
      "cell_type": "code",
      "execution_count": 20,
      "metadata": {
        "colab": {
          "base_uri": "https://localhost:8080/"
        },
        "id": "JbWgfoZCTF3h",
        "outputId": "6437df0b-298f-4c59-a77c-eff49ca6758f"
      },
      "outputs": [
        {
          "name": "stderr",
          "output_type": "stream",
          "text": [
            "[nltk_data] Downloading package punkt to\n",
            "[nltk_data]     C:\\Users\\MarianaLozano\\AppData\\Roaming\\nltk_data...\n",
            "[nltk_data]   Package punkt is already up-to-date!\n"
          ]
        },
        {
          "data": {
            "text/plain": [
              "True"
            ]
          },
          "execution_count": 20,
          "metadata": {},
          "output_type": "execute_result"
        }
      ],
      "source": [
        "# librería Natural Language Toolkit, usada para trabajar con textos\n",
        "import nltk\n",
        "# Punkt permite separar un texto en frases.\n",
        "nltk.download('punkt')"
      ]
    },
    {
      "cell_type": "code",
      "execution_count": 21,
      "metadata": {
        "colab": {
          "base_uri": "https://localhost:8080/"
        },
        "id": "JavL8Ph7TJTa",
        "outputId": "95527456-7cb2-4ada-aff1-b7cdfa26e29b"
      },
      "outputs": [
        {
          "name": "stderr",
          "output_type": "stream",
          "text": [
            "[nltk_data] Downloading package stopwords to\n",
            "[nltk_data]     C:\\Users\\MarianaLozano\\AppData\\Roaming\\nltk_data...\n",
            "[nltk_data]   Package stopwords is already up-to-date!\n"
          ]
        },
        {
          "data": {
            "text/plain": [
              "True"
            ]
          },
          "execution_count": 21,
          "metadata": {},
          "output_type": "execute_result"
        }
      ],
      "source": [
        "# Descarga todas las palabras vacias, es decir, aquellas que no aportan nada al significado del texto\n",
        "# ¿Cuales son esas palabras vacías?\n",
        "\n",
        "nltk.download('stopwords')"
      ]
    },
    {
      "cell_type": "code",
      "execution_count": 22,
      "metadata": {
        "colab": {
          "base_uri": "https://localhost:8080/"
        },
        "id": "VW5e2C5OTLa0",
        "outputId": "4be504bc-0ff5-4a0d-c803-6cb5e63ffa63"
      },
      "outputs": [
        {
          "name": "stderr",
          "output_type": "stream",
          "text": [
            "[nltk_data] Downloading package wordnet to\n",
            "[nltk_data]     C:\\Users\\MarianaLozano\\AppData\\Roaming\\nltk_data...\n",
            "[nltk_data]   Package wordnet is already up-to-date!\n"
          ]
        },
        {
          "data": {
            "text/plain": [
              "True"
            ]
          },
          "execution_count": 22,
          "metadata": {},
          "output_type": "execute_result"
        }
      ],
      "source": [
        "# Descarga de paquete WordNetLemmatizer, este es usado para encontrar el lema de cada palabra\n",
        "nltk.download('wordnet')"
      ]
    },
    {
      "cell_type": "markdown",
      "metadata": {
        "id": "-TBlX7jrY_sr"
      },
      "source": [
        "!pip install ydata-profiling\n",
        "from ydata_profiling import ProfileReport"
      ]
    },
    {
      "cell_type": "code",
      "execution_count": 23,
      "metadata": {
        "colab": {
          "base_uri": "https://localhost:8080/"
        },
        "id": "35q4SdPPTPgX",
        "outputId": "40605ea3-cfdf-4eb0-a21a-f902fe1c22a0"
      },
      "outputs": [
        {
          "name": "stdout",
          "output_type": "stream",
          "text": [
            "Requirement already satisfied: pandas-profiling in c:\\users\\marianalozano\\appdata\\local\\programs\\python\\python312\\lib\\site-packages (3.2.0)\n",
            "Requirement already satisfied: joblib~=1.1.0 in c:\\users\\marianalozano\\appdata\\local\\programs\\python\\python312\\lib\\site-packages (from pandas-profiling) (1.1.1)\n",
            "Requirement already satisfied: scipy>=1.4.1 in c:\\users\\marianalozano\\appdata\\local\\programs\\python\\python312\\lib\\site-packages (from pandas-profiling) (1.14.1)\n",
            "Requirement already satisfied: pandas!=1.0.0,!=1.0.1,!=1.0.2,!=1.1.0,>=0.25.3 in c:\\users\\marianalozano\\appdata\\local\\programs\\python\\python312\\lib\\site-packages (from pandas-profiling) (2.2.3)\n",
            "Requirement already satisfied: matplotlib>=3.2.0 in c:\\users\\marianalozano\\appdata\\local\\programs\\python\\python312\\lib\\site-packages (from pandas-profiling) (3.10.0)\n",
            "Requirement already satisfied: pydantic>=1.8.1 in c:\\users\\marianalozano\\appdata\\local\\programs\\python\\python312\\lib\\site-packages (from pandas-profiling) (2.9.2)\n",
            "Requirement already satisfied: PyYAML>=5.0.0 in c:\\users\\marianalozano\\appdata\\local\\programs\\python\\python312\\lib\\site-packages (from pandas-profiling) (6.0.2)\n",
            "Requirement already satisfied: jinja2>=2.11.1 in c:\\users\\marianalozano\\appdata\\local\\programs\\python\\python312\\lib\\site-packages (from pandas-profiling) (3.1.4)\n",
            "Requirement already satisfied: markupsafe~=2.1.1 in c:\\users\\marianalozano\\appdata\\local\\programs\\python\\python312\\lib\\site-packages (from pandas-profiling) (2.1.5)\n",
            "Collecting visions==0.7.4 (from visions[type_image_path]==0.7.4->pandas-profiling)\n",
            "  Using cached visions-0.7.4-py3-none-any.whl.metadata (5.9 kB)\n",
            "Requirement already satisfied: numpy>=1.16.0 in c:\\users\\marianalozano\\appdata\\local\\programs\\python\\python312\\lib\\site-packages (from pandas-profiling) (2.1.2)\n",
            "Requirement already satisfied: htmlmin>=0.1.12 in c:\\users\\marianalozano\\appdata\\local\\programs\\python\\python312\\lib\\site-packages (from pandas-profiling) (0.1.12)\n",
            "Requirement already satisfied: missingno>=0.4.2 in c:\\users\\marianalozano\\appdata\\local\\programs\\python\\python312\\lib\\site-packages (from pandas-profiling) (0.5.2)\n",
            "Requirement already satisfied: phik>=0.11.1 in c:\\users\\marianalozano\\appdata\\local\\programs\\python\\python312\\lib\\site-packages (from pandas-profiling) (0.12.4)\n",
            "Requirement already satisfied: tangled-up-in-unicode==0.2.0 in c:\\users\\marianalozano\\appdata\\local\\programs\\python\\python312\\lib\\site-packages (from pandas-profiling) (0.2.0)\n",
            "Requirement already satisfied: requests>=2.24.0 in c:\\users\\marianalozano\\appdata\\local\\programs\\python\\python312\\lib\\site-packages (from pandas-profiling) (2.32.3)\n",
            "Requirement already satisfied: tqdm>=4.48.2 in c:\\users\\marianalozano\\appdata\\local\\programs\\python\\python312\\lib\\site-packages (from pandas-profiling) (4.66.5)\n",
            "Requirement already satisfied: seaborn>=0.10.1 in c:\\users\\marianalozano\\appdata\\local\\programs\\python\\python312\\lib\\site-packages (from pandas-profiling) (0.13.2)\n",
            "Requirement already satisfied: multimethod>=1.4 in c:\\users\\marianalozano\\appdata\\local\\programs\\python\\python312\\lib\\site-packages (from pandas-profiling) (1.12)\n",
            "Requirement already satisfied: attrs>=19.3.0 in c:\\users\\marianalozano\\appdata\\local\\programs\\python\\python312\\lib\\site-packages (from visions==0.7.4->visions[type_image_path]==0.7.4->pandas-profiling) (24.3.0)\n",
            "Requirement already satisfied: networkx>=2.4 in c:\\users\\marianalozano\\appdata\\local\\programs\\python\\python312\\lib\\site-packages (from visions==0.7.4->visions[type_image_path]==0.7.4->pandas-profiling) (3.4.2)\n",
            "Requirement already satisfied: imagehash in c:\\users\\marianalozano\\appdata\\local\\programs\\python\\python312\\lib\\site-packages (from visions[type_image_path]==0.7.4->pandas-profiling) (4.3.1)\n",
            "Requirement already satisfied: Pillow in c:\\users\\marianalozano\\appdata\\local\\programs\\python\\python312\\lib\\site-packages (from visions[type_image_path]==0.7.4->pandas-profiling) (11.1.0)\n",
            "Requirement already satisfied: contourpy>=1.0.1 in c:\\users\\marianalozano\\appdata\\local\\programs\\python\\python312\\lib\\site-packages (from matplotlib>=3.2.0->pandas-profiling) (1.3.1)\n",
            "Requirement already satisfied: cycler>=0.10 in c:\\users\\marianalozano\\appdata\\local\\programs\\python\\python312\\lib\\site-packages (from matplotlib>=3.2.0->pandas-profiling) (0.12.1)\n",
            "Requirement already satisfied: fonttools>=4.22.0 in c:\\users\\marianalozano\\appdata\\local\\programs\\python\\python312\\lib\\site-packages (from matplotlib>=3.2.0->pandas-profiling) (4.56.0)\n",
            "Requirement already satisfied: kiwisolver>=1.3.1 in c:\\users\\marianalozano\\appdata\\local\\programs\\python\\python312\\lib\\site-packages (from matplotlib>=3.2.0->pandas-profiling) (1.4.8)\n",
            "Requirement already satisfied: packaging>=20.0 in c:\\users\\marianalozano\\appdata\\local\\programs\\python\\python312\\lib\\site-packages (from matplotlib>=3.2.0->pandas-profiling) (24.2)\n",
            "Requirement already satisfied: pyparsing>=2.3.1 in c:\\users\\marianalozano\\appdata\\local\\programs\\python\\python312\\lib\\site-packages (from matplotlib>=3.2.0->pandas-profiling) (3.2.1)\n",
            "Requirement already satisfied: python-dateutil>=2.7 in c:\\users\\marianalozano\\appdata\\local\\programs\\python\\python312\\lib\\site-packages (from matplotlib>=3.2.0->pandas-profiling) (2.9.0.post0)\n",
            "Requirement already satisfied: pytz>=2020.1 in c:\\users\\marianalozano\\appdata\\local\\programs\\python\\python312\\lib\\site-packages (from pandas!=1.0.0,!=1.0.1,!=1.0.2,!=1.1.0,>=0.25.3->pandas-profiling) (2024.2)\n",
            "Requirement already satisfied: tzdata>=2022.7 in c:\\users\\marianalozano\\appdata\\local\\programs\\python\\python312\\lib\\site-packages (from pandas!=1.0.0,!=1.0.1,!=1.0.2,!=1.1.0,>=0.25.3->pandas-profiling) (2024.2)\n",
            "Requirement already satisfied: annotated-types>=0.6.0 in c:\\users\\marianalozano\\appdata\\local\\programs\\python\\python312\\lib\\site-packages (from pydantic>=1.8.1->pandas-profiling) (0.7.0)\n",
            "Requirement already satisfied: pydantic-core==2.23.4 in c:\\users\\marianalozano\\appdata\\local\\programs\\python\\python312\\lib\\site-packages (from pydantic>=1.8.1->pandas-profiling) (2.23.4)\n",
            "Requirement already satisfied: typing-extensions>=4.6.1 in c:\\users\\marianalozano\\appdata\\local\\programs\\python\\python312\\lib\\site-packages (from pydantic>=1.8.1->pandas-profiling) (4.12.2)\n",
            "Requirement already satisfied: charset-normalizer<4,>=2 in c:\\users\\marianalozano\\appdata\\local\\programs\\python\\python312\\lib\\site-packages (from requests>=2.24.0->pandas-profiling) (3.4.1)\n",
            "Requirement already satisfied: idna<4,>=2.5 in c:\\users\\marianalozano\\appdata\\local\\programs\\python\\python312\\lib\\site-packages (from requests>=2.24.0->pandas-profiling) (3.10)\n",
            "Requirement already satisfied: urllib3<3,>=1.21.1 in c:\\users\\marianalozano\\appdata\\local\\programs\\python\\python312\\lib\\site-packages (from requests>=2.24.0->pandas-profiling) (2.3.0)\n",
            "Requirement already satisfied: certifi>=2017.4.17 in c:\\users\\marianalozano\\appdata\\local\\programs\\python\\python312\\lib\\site-packages (from requests>=2.24.0->pandas-profiling) (2024.8.30)\n",
            "Requirement already satisfied: colorama in c:\\users\\marianalozano\\appdata\\local\\programs\\python\\python312\\lib\\site-packages (from tqdm>=4.48.2->pandas-profiling) (0.4.6)\n",
            "Requirement already satisfied: six>=1.5 in c:\\users\\marianalozano\\appdata\\local\\programs\\python\\python312\\lib\\site-packages (from python-dateutil>=2.7->matplotlib>=3.2.0->pandas-profiling) (1.16.0)\n",
            "Requirement already satisfied: PyWavelets in c:\\users\\marianalozano\\appdata\\local\\programs\\python\\python312\\lib\\site-packages (from imagehash->visions[type_image_path]==0.7.4->pandas-profiling) (1.8.0)\n",
            "Using cached visions-0.7.4-py3-none-any.whl (102 kB)\n",
            "Installing collected packages: visions\n",
            "  Attempting uninstall: visions\n",
            "    Found existing installation: visions 0.7.6\n",
            "    Uninstalling visions-0.7.6:\n",
            "      Successfully uninstalled visions-0.7.6\n",
            "Successfully installed visions-0.7.4\n"
          ]
        },
        {
          "name": "stderr",
          "output_type": "stream",
          "text": [
            "ERROR: pip's dependency resolver does not currently take into account all the packages that are installed. This behaviour is the source of the following dependency conflicts.\n",
            "ydata-profiling 4.12.2 requires visions[type_image_path]<0.8.0,>=0.7.5, but you have visions 0.7.4 which is incompatible.\n",
            "\n",
            "[notice] A new release of pip is available: 24.0 -> 25.0.1\n",
            "[notice] To update, run: python.exe -m pip install --upgrade pip\n"
          ]
        }
      ],
      "source": [
        "# Instalación de librerias\n",
        "import pandas as pd\n",
        "import re\n",
        "import string\n",
        "import unicodedata\n",
        "import numpy as np\n",
        "import sys\n",
        "!{sys.executable} -m pip install pandas-profiling\n",
        "import contractions\n",
        "\n",
        "import nltk\n",
        "import spacy\n",
        "\n",
        "import re, string, unicodedata\n",
        "import contractions\n",
        "import inflect\n",
        "from nltk import word_tokenize, sent_tokenize\n",
        "from nltk.corpus import stopwords\n",
        "from nltk.stem import LancasterStemmer, WordNetLemmatizer\n",
        "\n",
        "from sklearn.model_selection import train_test_split,GridSearchCV\n",
        "from sklearn.feature_extraction.text import TfidfVectorizer, CountVectorizer, HashingVectorizer\n",
        "from sklearn.pipeline import Pipeline, FeatureUnion\n",
        "from sklearn.svm import SVC\n",
        "from sklearn.ensemble import BaggingClassifier, RandomForestClassifier, AdaBoostClassifier\n",
        "from sklearn.naive_bayes import BernoulliNB\n",
        "from sklearn.metrics import classification_report, confusion_matrix\n",
        "\n",
        "\n",
        "from nltk.stem import LancasterStemmer, WordNetLemmatizer\n",
        "from nltk.tokenize import sent_tokenize, word_tokenize\n",
        "\n",
        "\n",
        "from sklearn.base import BaseEstimator, ClassifierMixin\n",
        "\n",
        "import matplotlib.pyplot as plt"
      ]
    },
    {
      "cell_type": "markdown",
      "metadata": {
        "id": "lXztVP5vXieP"
      },
      "source": [
        "# Perfilameinto y entendimiento de datos"
      ]
    },
    {
      "cell_type": "code",
      "execution_count": 24,
      "metadata": {
        "id": "CBc8HAE9XrPi"
      },
      "outputs": [],
      "source": [
        "# Uso de la libreria pandas para la lectura de archivos\n",
        "data = pd.read_csv('./datos/fake_news_spanish.csv', sep=';', encoding='utf-8', on_bad_lines='warn')\n",
        "# Asignación a una nueva variable de los datos leidos\n",
        "data_t = data"
      ]
    },
    {
      "cell_type": "code",
      "execution_count": 25,
      "metadata": {
        "colab": {
          "base_uri": "https://localhost:8080/",
          "height": 597
        },
        "id": "phJa50EOX4--",
        "outputId": "1ed0d88a-3dfa-4ec0-9734-22d84f6e498d"
      },
      "outputs": [
        {
          "data": {
            "text/html": [
              "<div>\n",
              "<style scoped>\n",
              "    .dataframe tbody tr th:only-of-type {\n",
              "        vertical-align: middle;\n",
              "    }\n",
              "\n",
              "    .dataframe tbody tr th {\n",
              "        vertical-align: top;\n",
              "    }\n",
              "\n",
              "    .dataframe thead th {\n",
              "        text-align: right;\n",
              "    }\n",
              "</style>\n",
              "<table border=\"1\" class=\"dataframe\">\n",
              "  <thead>\n",
              "    <tr style=\"text-align: right;\">\n",
              "      <th></th>\n",
              "      <th>ID</th>\n",
              "      <th>Label</th>\n",
              "      <th>Titulo</th>\n",
              "      <th>Descripcion</th>\n",
              "      <th>Fecha</th>\n",
              "    </tr>\n",
              "  </thead>\n",
              "  <tbody>\n",
              "    <tr>\n",
              "      <th>0</th>\n",
              "      <td>ID</td>\n",
              "      <td>1</td>\n",
              "      <td>'The Guardian' va con Sánchez: 'Europa necesit...</td>\n",
              "      <td>El diario británico publicó este pasado jueves...</td>\n",
              "      <td>02/06/2023</td>\n",
              "    </tr>\n",
              "    <tr>\n",
              "      <th>1</th>\n",
              "      <td>ID</td>\n",
              "      <td>0</td>\n",
              "      <td>REVELAN QUE EL GOBIERNO NEGOCIO LA LIBERACIÓN ...</td>\n",
              "      <td>REVELAN QUE EL GOBIERNO NEGOCIO LA LIBERACIÓN ...</td>\n",
              "      <td>01/10/2023</td>\n",
              "    </tr>\n",
              "    <tr>\n",
              "      <th>2</th>\n",
              "      <td>ID</td>\n",
              "      <td>1</td>\n",
              "      <td>El 'Ahora o nunca' de Joan Fuster sobre el est...</td>\n",
              "      <td>El valencianismo convoca en Castelló su fiesta...</td>\n",
              "      <td>25/04/2022</td>\n",
              "    </tr>\n",
              "    <tr>\n",
              "      <th>3</th>\n",
              "      <td>ID</td>\n",
              "      <td>1</td>\n",
              "      <td>Iglesias alienta a Yolanda Díaz, ERC y EH Bild...</td>\n",
              "      <td>En política, igual que hay que negociar con lo...</td>\n",
              "      <td>03/01/2022</td>\n",
              "    </tr>\n",
              "    <tr>\n",
              "      <th>4</th>\n",
              "      <td>ID</td>\n",
              "      <td>0</td>\n",
              "      <td>Puigdemont: 'No sería ninguna tragedia una rep...</td>\n",
              "      <td>En una entrevista en El Punt Avui, el líder de...</td>\n",
              "      <td>09/03/2018</td>\n",
              "    </tr>\n",
              "    <tr>\n",
              "      <th>...</th>\n",
              "      <td>...</td>\n",
              "      <td>...</td>\n",
              "      <td>...</td>\n",
              "      <td>...</td>\n",
              "      <td>...</td>\n",
              "    </tr>\n",
              "    <tr>\n",
              "      <th>57058</th>\n",
              "      <td>ID</td>\n",
              "      <td>1</td>\n",
              "      <td>El Defensor del Pueblo reclama a la Comunidad ...</td>\n",
              "      <td>El gobierno regional han indicado que la atenc...</td>\n",
              "      <td>08/06/2021</td>\n",
              "    </tr>\n",
              "    <tr>\n",
              "      <th>57059</th>\n",
              "      <td>ID</td>\n",
              "      <td>0</td>\n",
              "      <td>El EQUO plantea ceder la presidencia de la Com...</td>\n",
              "      <td>Si la higiene democrática nos lleva a esa exig...</td>\n",
              "      <td>08/09/2020</td>\n",
              "    </tr>\n",
              "    <tr>\n",
              "      <th>57060</th>\n",
              "      <td>ID</td>\n",
              "      <td>1</td>\n",
              "      <td>Alberto Garzón: 'Que los Borbones son unos lad...</td>\n",
              "      <td>El coordinador federal de IU asegura que la mo...</td>\n",
              "      <td>12/07/2018</td>\n",
              "    </tr>\n",
              "    <tr>\n",
              "      <th>57061</th>\n",
              "      <td>ID</td>\n",
              "      <td>1</td>\n",
              "      <td>Vox exige entrar en el Gobierno de Castilla y ...</td>\n",
              "      <td>Santiago Abascal: Vox tiene el derecho y el de...</td>\n",
              "      <td>13/02/2022</td>\n",
              "    </tr>\n",
              "    <tr>\n",
              "      <th>57062</th>\n",
              "      <td>ID</td>\n",
              "      <td>1</td>\n",
              "      <td>Unas 300 personas protestan contra la visita d...</td>\n",
              "      <td>Los Mossos dEsquadra han blindado los alrededo...</td>\n",
              "      <td>09/10/2020</td>\n",
              "    </tr>\n",
              "  </tbody>\n",
              "</table>\n",
              "<p>57063 rows × 5 columns</p>\n",
              "</div>"
            ],
            "text/plain": [
              "       ID  Label                                             Titulo  \\\n",
              "0      ID      1  'The Guardian' va con Sánchez: 'Europa necesit...   \n",
              "1      ID      0  REVELAN QUE EL GOBIERNO NEGOCIO LA LIBERACIÓN ...   \n",
              "2      ID      1  El 'Ahora o nunca' de Joan Fuster sobre el est...   \n",
              "3      ID      1  Iglesias alienta a Yolanda Díaz, ERC y EH Bild...   \n",
              "4      ID      0  Puigdemont: 'No sería ninguna tragedia una rep...   \n",
              "...    ..    ...                                                ...   \n",
              "57058  ID      1  El Defensor del Pueblo reclama a la Comunidad ...   \n",
              "57059  ID      0  El EQUO plantea ceder la presidencia de la Com...   \n",
              "57060  ID      1  Alberto Garzón: 'Que los Borbones son unos lad...   \n",
              "57061  ID      1  Vox exige entrar en el Gobierno de Castilla y ...   \n",
              "57062  ID      1  Unas 300 personas protestan contra la visita d...   \n",
              "\n",
              "                                             Descripcion       Fecha  \n",
              "0      El diario británico publicó este pasado jueves...  02/06/2023  \n",
              "1      REVELAN QUE EL GOBIERNO NEGOCIO LA LIBERACIÓN ...  01/10/2023  \n",
              "2      El valencianismo convoca en Castelló su fiesta...  25/04/2022  \n",
              "3      En política, igual que hay que negociar con lo...  03/01/2022  \n",
              "4      En una entrevista en El Punt Avui, el líder de...  09/03/2018  \n",
              "...                                                  ...         ...  \n",
              "57058  El gobierno regional han indicado que la atenc...  08/06/2021  \n",
              "57059  Si la higiene democrática nos lleva a esa exig...  08/09/2020  \n",
              "57060  El coordinador federal de IU asegura que la mo...  12/07/2018  \n",
              "57061  Santiago Abascal: Vox tiene el derecho y el de...  13/02/2022  \n",
              "57062  Los Mossos dEsquadra han blindado los alrededo...  09/10/2020  \n",
              "\n",
              "[57063 rows x 5 columns]"
            ]
          },
          "execution_count": 25,
          "metadata": {},
          "output_type": "execute_result"
        }
      ],
      "source": [
        "data_t"
      ]
    },
    {
      "cell_type": "code",
      "execution_count": 26,
      "metadata": {
        "colab": {
          "base_uri": "https://localhost:8080/"
        },
        "id": "lmHapqdQX-Hq",
        "outputId": "cfb7ab6b-9f83-4955-d232-ea93c17c37e6"
      },
      "outputs": [
        {
          "name": "stdout",
          "output_type": "stream",
          "text": [
            "<class 'pandas.core.frame.DataFrame'>\n",
            "RangeIndex: 57063 entries, 0 to 57062\n",
            "Data columns (total 5 columns):\n",
            " #   Column       Non-Null Count  Dtype \n",
            "---  ------       --------------  ----- \n",
            " 0   ID           57063 non-null  object\n",
            " 1   Label        57063 non-null  int64 \n",
            " 2   Titulo       57047 non-null  object\n",
            " 3   Descripcion  57063 non-null  object\n",
            " 4   Fecha        57063 non-null  object\n",
            "dtypes: int64(1), object(4)\n",
            "memory usage: 2.2+ MB\n"
          ]
        }
      ],
      "source": [
        "data_t.info()"
      ]
    },
    {
      "cell_type": "markdown",
      "metadata": {
        "id": "oUo86jI1YAZ4"
      },
      "source": [
        "#### Entendimiento de los Datos\n",
        "\n",
        "Realizaremos estadísticas descriptivas para poder obtener un análisis de los textos."
      ]
    },
    {
      "cell_type": "code",
      "execution_count": 27,
      "metadata": {
        "id": "xJslN0PcYFoW"
      },
      "outputs": [],
      "source": [
        "textos = data_t.copy()\n",
        "textos['Conteo'] = [len(str(x)) if not isinstance(x, float) or not np.isnan(x) else 0 for x in textos['Titulo']]\n",
        "textos['Moda'] = textos['Conteo'].mode()[0]\n",
        "textos['Max'] = [[max([len(x) for x in str(i).split(' ')])][0] if not isinstance(i, float) or not np.isnan(i) else 0 for i in textos['Titulo']]\n",
        "textos['Min'] = [[min([len(x) for x in str(i).split(' ')])][0] if not isinstance(i, float) or not np.isnan(i) else 0 for i in textos['Titulo']]"
      ]
    },
    {
      "cell_type": "code",
      "execution_count": 28,
      "metadata": {
        "id": "YuOAfapYYqcu"
      },
      "outputs": [],
      "source": [
        "#ProfileReport(textos)"
      ]
    },
    {
      "cell_type": "code",
      "execution_count": 29,
      "metadata": {
        "colab": {
          "base_uri": "https://localhost:8080/",
          "height": 684
        },
        "id": "8MQABs6NZmmW",
        "outputId": "5f935fba-a37b-409b-c0d6-02c06be9d604"
      },
      "outputs": [
        {
          "data": {
            "text/html": [
              "<div>\n",
              "<style scoped>\n",
              "    .dataframe tbody tr th:only-of-type {\n",
              "        vertical-align: middle;\n",
              "    }\n",
              "\n",
              "    .dataframe tbody tr th {\n",
              "        vertical-align: top;\n",
              "    }\n",
              "\n",
              "    .dataframe thead th {\n",
              "        text-align: right;\n",
              "    }\n",
              "</style>\n",
              "<table border=\"1\" class=\"dataframe\">\n",
              "  <thead>\n",
              "    <tr style=\"text-align: right;\">\n",
              "      <th></th>\n",
              "      <th>ID</th>\n",
              "      <th>Label</th>\n",
              "      <th>Titulo</th>\n",
              "      <th>Descripcion</th>\n",
              "      <th>Fecha</th>\n",
              "      <th>Conteo</th>\n",
              "      <th>Moda</th>\n",
              "      <th>Max</th>\n",
              "      <th>Min</th>\n",
              "    </tr>\n",
              "  </thead>\n",
              "  <tbody>\n",
              "    <tr>\n",
              "      <th>0</th>\n",
              "      <td>ID</td>\n",
              "      <td>1</td>\n",
              "      <td>'The Guardian' va con Sánchez: 'Europa necesit...</td>\n",
              "      <td>El diario británico publicó este pasado jueves...</td>\n",
              "      <td>02/06/2023</td>\n",
              "      <td>77</td>\n",
              "      <td>82</td>\n",
              "      <td>9</td>\n",
              "      <td>2</td>\n",
              "    </tr>\n",
              "    <tr>\n",
              "      <th>1</th>\n",
              "      <td>ID</td>\n",
              "      <td>0</td>\n",
              "      <td>REVELAN QUE EL GOBIERNO NEGOCIO LA LIBERACIÓN ...</td>\n",
              "      <td>REVELAN QUE EL GOBIERNO NEGOCIO LA LIBERACIÓN ...</td>\n",
              "      <td>01/10/2023</td>\n",
              "      <td>104</td>\n",
              "      <td>82</td>\n",
              "      <td>10</td>\n",
              "      <td>1</td>\n",
              "    </tr>\n",
              "    <tr>\n",
              "      <th>2</th>\n",
              "      <td>ID</td>\n",
              "      <td>1</td>\n",
              "      <td>El 'Ahora o nunca' de Joan Fuster sobre el est...</td>\n",
              "      <td>El valencianismo convoca en Castelló su fiesta...</td>\n",
              "      <td>25/04/2022</td>\n",
              "      <td>77</td>\n",
              "      <td>82</td>\n",
              "      <td>10</td>\n",
              "      <td>1</td>\n",
              "    </tr>\n",
              "    <tr>\n",
              "      <th>3</th>\n",
              "      <td>ID</td>\n",
              "      <td>1</td>\n",
              "      <td>Iglesias alienta a Yolanda Díaz, ERC y EH Bild...</td>\n",
              "      <td>En política, igual que hay que negociar con lo...</td>\n",
              "      <td>03/01/2022</td>\n",
              "      <td>110</td>\n",
              "      <td>82</td>\n",
              "      <td>12</td>\n",
              "      <td>1</td>\n",
              "    </tr>\n",
              "    <tr>\n",
              "      <th>4</th>\n",
              "      <td>ID</td>\n",
              "      <td>0</td>\n",
              "      <td>Puigdemont: 'No sería ninguna tragedia una rep...</td>\n",
              "      <td>En una entrevista en El Punt Avui, el líder de...</td>\n",
              "      <td>09/03/2018</td>\n",
              "      <td>72</td>\n",
              "      <td>82</td>\n",
              "      <td>11</td>\n",
              "      <td>2</td>\n",
              "    </tr>\n",
              "    <tr>\n",
              "      <th>...</th>\n",
              "      <td>...</td>\n",
              "      <td>...</td>\n",
              "      <td>...</td>\n",
              "      <td>...</td>\n",
              "      <td>...</td>\n",
              "      <td>...</td>\n",
              "      <td>...</td>\n",
              "      <td>...</td>\n",
              "      <td>...</td>\n",
              "    </tr>\n",
              "    <tr>\n",
              "      <th>57058</th>\n",
              "      <td>ID</td>\n",
              "      <td>1</td>\n",
              "      <td>El Defensor del Pueblo reclama a la Comunidad ...</td>\n",
              "      <td>El gobierno regional han indicado que la atenc...</td>\n",
              "      <td>08/06/2021</td>\n",
              "      <td>116</td>\n",
              "      <td>82</td>\n",
              "      <td>9</td>\n",
              "      <td>1</td>\n",
              "    </tr>\n",
              "    <tr>\n",
              "      <th>57059</th>\n",
              "      <td>ID</td>\n",
              "      <td>0</td>\n",
              "      <td>El EQUO plantea ceder la presidencia de la Com...</td>\n",
              "      <td>Si la higiene democrática nos lleva a esa exig...</td>\n",
              "      <td>08/09/2020</td>\n",
              "      <td>100</td>\n",
              "      <td>82</td>\n",
              "      <td>11</td>\n",
              "      <td>1</td>\n",
              "    </tr>\n",
              "    <tr>\n",
              "      <th>57060</th>\n",
              "      <td>ID</td>\n",
              "      <td>1</td>\n",
              "      <td>Alberto Garzón: 'Que los Borbones son unos lad...</td>\n",
              "      <td>El coordinador federal de IU asegura que la mo...</td>\n",
              "      <td>12/07/2018</td>\n",
              "      <td>90</td>\n",
              "      <td>82</td>\n",
              "      <td>14</td>\n",
              "      <td>2</td>\n",
              "    </tr>\n",
              "    <tr>\n",
              "      <th>57061</th>\n",
              "      <td>ID</td>\n",
              "      <td>1</td>\n",
              "      <td>Vox exige entrar en el Gobierno de Castilla y ...</td>\n",
              "      <td>Santiago Abascal: Vox tiene el derecho y el de...</td>\n",
              "      <td>13/02/2022</td>\n",
              "      <td>118</td>\n",
              "      <td>82</td>\n",
              "      <td>16</td>\n",
              "      <td>1</td>\n",
              "    </tr>\n",
              "    <tr>\n",
              "      <th>57062</th>\n",
              "      <td>ID</td>\n",
              "      <td>1</td>\n",
              "      <td>Unas 300 personas protestan contra la visita d...</td>\n",
              "      <td>Los Mossos dEsquadra han blindado los alrededo...</td>\n",
              "      <td>09/10/2020</td>\n",
              "      <td>64</td>\n",
              "      <td>82</td>\n",
              "      <td>9</td>\n",
              "      <td>1</td>\n",
              "    </tr>\n",
              "  </tbody>\n",
              "</table>\n",
              "<p>57063 rows × 9 columns</p>\n",
              "</div>"
            ],
            "text/plain": [
              "       ID  Label                                             Titulo  \\\n",
              "0      ID      1  'The Guardian' va con Sánchez: 'Europa necesit...   \n",
              "1      ID      0  REVELAN QUE EL GOBIERNO NEGOCIO LA LIBERACIÓN ...   \n",
              "2      ID      1  El 'Ahora o nunca' de Joan Fuster sobre el est...   \n",
              "3      ID      1  Iglesias alienta a Yolanda Díaz, ERC y EH Bild...   \n",
              "4      ID      0  Puigdemont: 'No sería ninguna tragedia una rep...   \n",
              "...    ..    ...                                                ...   \n",
              "57058  ID      1  El Defensor del Pueblo reclama a la Comunidad ...   \n",
              "57059  ID      0  El EQUO plantea ceder la presidencia de la Com...   \n",
              "57060  ID      1  Alberto Garzón: 'Que los Borbones son unos lad...   \n",
              "57061  ID      1  Vox exige entrar en el Gobierno de Castilla y ...   \n",
              "57062  ID      1  Unas 300 personas protestan contra la visita d...   \n",
              "\n",
              "                                             Descripcion       Fecha  Conteo  \\\n",
              "0      El diario británico publicó este pasado jueves...  02/06/2023      77   \n",
              "1      REVELAN QUE EL GOBIERNO NEGOCIO LA LIBERACIÓN ...  01/10/2023     104   \n",
              "2      El valencianismo convoca en Castelló su fiesta...  25/04/2022      77   \n",
              "3      En política, igual que hay que negociar con lo...  03/01/2022     110   \n",
              "4      En una entrevista en El Punt Avui, el líder de...  09/03/2018      72   \n",
              "...                                                  ...         ...     ...   \n",
              "57058  El gobierno regional han indicado que la atenc...  08/06/2021     116   \n",
              "57059  Si la higiene democrática nos lleva a esa exig...  08/09/2020     100   \n",
              "57060  El coordinador federal de IU asegura que la mo...  12/07/2018      90   \n",
              "57061  Santiago Abascal: Vox tiene el derecho y el de...  13/02/2022     118   \n",
              "57062  Los Mossos dEsquadra han blindado los alrededo...  09/10/2020      64   \n",
              "\n",
              "       Moda  Max  Min  \n",
              "0        82    9    2  \n",
              "1        82   10    1  \n",
              "2        82   10    1  \n",
              "3        82   12    1  \n",
              "4        82   11    2  \n",
              "...     ...  ...  ...  \n",
              "57058    82    9    1  \n",
              "57059    82   11    1  \n",
              "57060    82   14    2  \n",
              "57061    82   16    1  \n",
              "57062    82    9    1  \n",
              "\n",
              "[57063 rows x 9 columns]"
            ]
          },
          "execution_count": 29,
          "metadata": {},
          "output_type": "execute_result"
        }
      ],
      "source": [
        "textos"
      ]
    },
    {
      "cell_type": "markdown",
      "metadata": {
        "id": "396qumOtZoZm"
      },
      "source": [
        "# Preparacion de los datos\n",
        "\n",
        "Pasos:\n",
        "\n",
        "* Limpieza de los datos.\n",
        "* Tokenización.\n",
        "* Normalización."
      ]
    },
    {
      "cell_type": "markdown",
      "metadata": {
        "id": "7e-xBCsmbvuy"
      },
      "source": [
        "### **Limpieza de los datos**"
      ]
    },
    {
      "cell_type": "code",
      "execution_count": 30,
      "metadata": {
        "colab": {
          "base_uri": "https://localhost:8080/"
        },
        "id": "-MqGJ3DQZ5TC",
        "outputId": "2c8f2322-2320-484e-9bb8-9aaa6c4dd76e"
      },
      "outputs": [
        {
          "name": "stderr",
          "output_type": "stream",
          "text": [
            "[nltk_data] Downloading package punkt_tab to\n",
            "[nltk_data]     C:\\Users\\MarianaLozano\\AppData\\Roaming\\nltk_data...\n",
            "[nltk_data]   Package punkt_tab is already up-to-date!\n"
          ]
        },
        {
          "name": "stdout",
          "output_type": "stream",
          "text": [
            "   ID  Label                                             Titulo  \\\n",
            "0  ID      1  'The Guardian' va con Sánchez: 'Europa necesit...   \n",
            "1  ID      0  REVELAN QUE EL GOBIERNO NEGOCIO LA LIBERACIÓN ...   \n",
            "2  ID      1  El 'Ahora o nunca' de Joan Fuster sobre el est...   \n",
            "3  ID      1  Iglesias alienta a Yolanda Díaz, ERC y EH Bild...   \n",
            "4  ID      0  Puigdemont: 'No sería ninguna tragedia una rep...   \n",
            "\n",
            "                                         Descripcion       Fecha  \\\n",
            "0  El diario británico publicó este pasado jueves...  02/06/2023   \n",
            "1  REVELAN QUE EL GOBIERNO NEGOCIO LA LIBERACIÓN ...  01/10/2023   \n",
            "2  El valencianismo convoca en Castelló su fiesta...  25/04/2022   \n",
            "3  En política, igual que hay que negociar con lo...  03/01/2022   \n",
            "4  En una entrevista en El Punt Avui, el líder de...  09/03/2018   \n",
            "\n",
            "                                    Titulo_procesado  \n",
            "0  the guardian va sanchez europa necesita apuest...  \n",
            "1  revelan gobierno negocio liberacion mireles ca...  \n",
            "2  ahora nunca joan fuster estatuto valenciano cu...  \n",
            "3  iglesias alienta yolanda diaz erc eh bildu neg...  \n",
            "4  puigdemont seria ninguna tragedia repeticion e...  \n"
          ]
        }
      ],
      "source": [
        "import nltk\n",
        "nltk.download('punkt_tab')\n",
        "\n",
        "# Download necessary NLTK data if not already present\n",
        "nltk.download('punkt', quiet=True)\n",
        "nltk.download('stopwords', quiet=True)\n",
        "nltk.download('wordnet', quiet=True)\n",
        "\n",
        "# Load Spanish language model for spaCy\n",
        "stopwords_es = [\n",
        "    \"de\", \"la\", \"que\", \"el\", \"en\", \"y\", \"a\", \"los\", \"del\", \"se\", \"las\", \"por\", \"un\", \"para\",\n",
        "    \"con\", \"no\", \"una\", \"su\", \"al\", \"es\", \"lo\", \"como\", \"más\", \"pero\", \"sus\", \"le\", \"ya\",\n",
        "    \"o\", \"este\", \"sí\", \"porque\", \"esta\", \"entre\", \"cuando\", \"muy\", \"sin\", \"sobre\", \"también\",\n",
        "    \"me\", \"hasta\", \"hay\", \"donde\", \"quien\", \"desde\", \"todo\", \"nos\", \"durante\", \"todos\",\n",
        "    \"uno\", \"les\", \"ni\", \"contra\", \"otros\", \"ese\", \"eso\", \"ante\", \"ellos\", \"e\", \"esto\"\n",
        "]\n",
        "\n",
        "\n",
        "def remove_non_ascii(words):\n",
        "    \"\"\"Remove non-ASCII characters from list of tokenized words\"\"\"\n",
        "    new_words = []\n",
        "    for word in words:\n",
        "        new_word = unicodedata.normalize('NFKD', word).encode('ascii', 'ignore').decode('utf-8', 'ignore')\n",
        "        new_words.append(new_word)\n",
        "    return new_words\n",
        "\n",
        "\n",
        "\n",
        "\n",
        "def to_lowercase(words):\n",
        "    \"\"\"Convert all characters to lowercase from list of tokenized words\"\"\"\n",
        "    new_words = []\n",
        "    for word in words:\n",
        "        new_word = word.lower()\n",
        "        new_words.append(new_word)\n",
        "    return new_words\n",
        "\n",
        "def remove_punctuation(words):\n",
        "    \"\"\"Remove punctuation from list of tokenized words\"\"\"\n",
        "    new_words = []\n",
        "    for word in words:\n",
        "        new_word = re.sub(r'[^\\w\\s]', '', word)\n",
        "        if new_word != '':\n",
        "            new_words.append(new_word)\n",
        "    return new_words\n",
        "\n",
        "def replace_numbers(words):\n",
        "    \"\"\"Replace all interger occurrences in list of tokenized words with textual representation\"\"\"\n",
        "    p = inflect.engine()\n",
        "    new_words = []\n",
        "    for word in words:\n",
        "        if word.isdigit():\n",
        "            new_word = p.number_to_words(word)\n",
        "            new_words.append(new_word)\n",
        "        else:\n",
        "            new_words.append(word)\n",
        "    return new_words\n",
        "\n",
        "def remove_stopwords(words):\n",
        "    \"\"\"Remove stop words from list of tokenized words\"\"\"\n",
        "    new_words = []\n",
        "    for word in words:\n",
        "        if word not in stopwords.words('spanish'):\n",
        "            new_words.append(word)\n",
        "    return new_words\n",
        "\n",
        "def stem_words(words):\n",
        "    \"\"\"Stem words in list of tokenized words\"\"\"\n",
        "    stemmer = LancasterStemmer()\n",
        "    stems = []\n",
        "    for word in words:\n",
        "        stem = stemmer.stem(word)\n",
        "        stems.append(stem)\n",
        "    return stems\n",
        "\n",
        "def lemmatize_verbs(words):\n",
        "    \"\"\"Lemmatize verbs in list of tokenized words\"\"\"\n",
        "    lemmatizer = WordNetLemmatizer()\n",
        "    lemmas = []\n",
        "    for word in words:\n",
        "        lemma = lemmatizer.lemmatize(word, pos='v')\n",
        "        lemmas.append(lemma)\n",
        "    return lemmas\n",
        "\n",
        "def normalize(words):\n",
        "    words = remove_non_ascii(words)\n",
        "    words = to_lowercase(words)\n",
        "    words = remove_punctuation(words)\n",
        "    words = replace_numbers(words)\n",
        "    words = remove_stopwords(words)\n",
        "    #words = stem_words(words) #Consider removing or using lemmatization instead\n",
        "    words = lemmatize_verbs(words)\n",
        "    return words\n",
        "\n",
        "def preprocessing(words):\n",
        "    words = to_lowercase(words)\n",
        "    words = replace_numbers(words)\n",
        "    words = remove_punctuation(words)\n",
        "    words = remove_non_ascii(words)\n",
        "    words = remove_stopwords(words)\n",
        "    return words\n",
        "\n",
        "data_t['Titulo_procesado'] = data_t['Titulo'].astype(str).apply(word_tokenize)\n",
        "\n",
        "data_t['Titulo_procesado'] = data_t['Titulo_procesado'].apply(normalize)\n",
        "data_t['Titulo_procesado'] = data_t['Titulo_procesado'].apply(lambda x: ' '.join(x))\n",
        "\n",
        "print(data_t.head())\n"
      ]
    },
    {
      "cell_type": "markdown",
      "metadata": {
        "id": "YPzOcxCyb6kS"
      },
      "source": [
        "## **Tokenización**"
      ]
    },
    {
      "cell_type": "code",
      "execution_count": 31,
      "metadata": {
        "id": "-5o9nW1Xb_3M"
      },
      "outputs": [],
      "source": [
        "# prompt: Aplica la corrección de las contracciones\n",
        "\n",
        "def expand_contractions(text):\n",
        "    \"\"\"Expand contractions in a given text.\"\"\"\n",
        "    expanded_text = contractions.fix(text)\n",
        "    return expanded_text\n",
        "\n",
        "\n",
        "data_t['Titulo'] = data_t['Titulo'].astype(str).apply(expand_contractions)\n"
      ]
    },
    {
      "cell_type": "code",
      "execution_count": 32,
      "metadata": {
        "id": "uzyXWfVccQf2"
      },
      "outputs": [],
      "source": [
        "data_t['Descripcion'] = data_t['Descripcion'].astype(str).apply(word_tokenize)"
      ]
    },
    {
      "cell_type": "code",
      "execution_count": 33,
      "metadata": {
        "colab": {
          "base_uri": "https://localhost:8080/",
          "height": 458
        },
        "id": "1t9Jnnfucb8Q",
        "outputId": "a842ff70-bcc9-4324-ab6f-d0b3e8f4a50f"
      },
      "outputs": [
        {
          "data": {
            "text/plain": [
              "0        [El, diario, británico, publicó, este, pasado,...\n",
              "1        [REVELAN, QUE, EL, GOBIERNO, NEGOCIO, LA, LIBE...\n",
              "2        [El, valencianismo, convoca, en, Castelló, su,...\n",
              "3        [En, política, ,, igual, que, hay, que, negoci...\n",
              "4        [En, una, entrevista, en, El, Punt, Avui, ,, e...\n",
              "                               ...                        \n",
              "57058    [El, gobierno, regional, han, indicado, que, l...\n",
              "57059    [Si, la, higiene, democrática, nos, lleva, a, ...\n",
              "57060    [El, coordinador, federal, de, IU, asegura, qu...\n",
              "57061    [Santiago, Abascal, :, Vox, tiene, el, derecho...\n",
              "57062    [Los, Mossos, dEsquadra, han, blindado, los, a...\n",
              "Name: Descripcion, Length: 57063, dtype: object"
            ]
          },
          "execution_count": 33,
          "metadata": {},
          "output_type": "execute_result"
        }
      ],
      "source": [
        "data_t['Descripcion'].dropna()"
      ]
    },
    {
      "cell_type": "code",
      "execution_count": 34,
      "metadata": {
        "colab": {
          "base_uri": "https://localhost:8080/"
        },
        "id": "yuh0j_IdcfE0",
        "outputId": "19cf47a3-98b3-4027-d14a-27e01c78a54c"
      },
      "outputs": [
        {
          "data": {
            "text/plain": [
              "(57063, 6)"
            ]
          },
          "execution_count": 34,
          "metadata": {},
          "output_type": "execute_result"
        }
      ],
      "source": [
        "data_t.shape"
      ]
    },
    {
      "cell_type": "code",
      "execution_count": 35,
      "metadata": {
        "colab": {
          "base_uri": "https://localhost:8080/"
        },
        "id": "1GHQiihpeAWs",
        "outputId": "a8ec28c0-6289-4bd5-8607-d651a5a92182"
      },
      "outputs": [
        {
          "name": "stdout",
          "output_type": "stream",
          "text": [
            "<class 'pandas.core.series.Series'>\n",
            "RangeIndex: 57063 entries, 0 to 57062\n",
            "Series name: Descripcion\n",
            "Non-Null Count  Dtype \n",
            "--------------  ----- \n",
            "57063 non-null  object\n",
            "dtypes: object(1)\n",
            "memory usage: 445.9+ KB\n"
          ]
        }
      ],
      "source": [
        "data_t['Descripcion'].info()"
      ]
    },
    {
      "cell_type": "code",
      "execution_count": 36,
      "metadata": {
        "id": "YzNm2uVZeGf-"
      },
      "outputs": [
        {
          "data": {
            "text/html": [
              "<div>\n",
              "<style scoped>\n",
              "    .dataframe tbody tr th:only-of-type {\n",
              "        vertical-align: middle;\n",
              "    }\n",
              "\n",
              "    .dataframe tbody tr th {\n",
              "        vertical-align: top;\n",
              "    }\n",
              "\n",
              "    .dataframe thead th {\n",
              "        text-align: right;\n",
              "    }\n",
              "</style>\n",
              "<table border=\"1\" class=\"dataframe\">\n",
              "  <thead>\n",
              "    <tr style=\"text-align: right;\">\n",
              "      <th></th>\n",
              "      <th>ID</th>\n",
              "      <th>Label</th>\n",
              "      <th>Titulo</th>\n",
              "      <th>Descripcion</th>\n",
              "      <th>Fecha</th>\n",
              "      <th>Titulo_procesado</th>\n",
              "      <th>Descripcion1</th>\n",
              "    </tr>\n",
              "  </thead>\n",
              "  <tbody>\n",
              "    <tr>\n",
              "      <th>0</th>\n",
              "      <td>ID</td>\n",
              "      <td>1</td>\n",
              "      <td>'The Guardian' va con Sánchez: 'Europa necesit...</td>\n",
              "      <td>[El, diario, británico, publicó, este, pasado,...</td>\n",
              "      <td>02/06/2023</td>\n",
              "      <td>the guardian va sanchez europa necesita apuest...</td>\n",
              "      <td>[diario, britanico, publico, pasado, jueves, e...</td>\n",
              "    </tr>\n",
              "    <tr>\n",
              "      <th>1</th>\n",
              "      <td>ID</td>\n",
              "      <td>0</td>\n",
              "      <td>REVELAN QUE EL GOBIERNO NEGOCIO LA LIBERACIÓN ...</td>\n",
              "      <td>[REVELAN, QUE, EL, GOBIERNO, NEGOCIO, LA, LIBE...</td>\n",
              "      <td>01/10/2023</td>\n",
              "      <td>revelan gobierno negocio liberacion mireles ca...</td>\n",
              "      <td>[revelan, gobierno, negocio, liberacion, mirel...</td>\n",
              "    </tr>\n",
              "    <tr>\n",
              "      <th>2</th>\n",
              "      <td>ID</td>\n",
              "      <td>1</td>\n",
              "      <td>El 'Ahora o nunca' de Joan Fuster sobre el est...</td>\n",
              "      <td>[El, valencianismo, convoca, en, Castelló, su,...</td>\n",
              "      <td>25/04/2022</td>\n",
              "      <td>ahora nunca joan fuster estatuto valenciano cu...</td>\n",
              "      <td>[valencianismo, convoca, castello, fiesta, gra...</td>\n",
              "    </tr>\n",
              "    <tr>\n",
              "      <th>3</th>\n",
              "      <td>ID</td>\n",
              "      <td>1</td>\n",
              "      <td>Iglesias alienta a Yolanda Díaz, ERC y EH Bild...</td>\n",
              "      <td>[En, política, ,, igual, que, hay, que, negoci...</td>\n",
              "      <td>03/01/2022</td>\n",
              "      <td>iglesias alienta yolanda diaz erc eh bildu neg...</td>\n",
              "      <td>[politica, igual, negociar, empresarios, negoc...</td>\n",
              "    </tr>\n",
              "    <tr>\n",
              "      <th>4</th>\n",
              "      <td>ID</td>\n",
              "      <td>0</td>\n",
              "      <td>Puigdemont: 'No sería ninguna tragedia una rep...</td>\n",
              "      <td>[En, una, entrevista, en, El, Punt, Avui, ,, e...</td>\n",
              "      <td>09/03/2018</td>\n",
              "      <td>puigdemont seria ninguna tragedia repeticion e...</td>\n",
              "      <td>[entrevista, punt, avui, lider, jxcat, desdram...</td>\n",
              "    </tr>\n",
              "  </tbody>\n",
              "</table>\n",
              "</div>"
            ],
            "text/plain": [
              "   ID  Label                                             Titulo  \\\n",
              "0  ID      1  'The Guardian' va con Sánchez: 'Europa necesit...   \n",
              "1  ID      0  REVELAN QUE EL GOBIERNO NEGOCIO LA LIBERACIÓN ...   \n",
              "2  ID      1  El 'Ahora o nunca' de Joan Fuster sobre el est...   \n",
              "3  ID      1  Iglesias alienta a Yolanda Díaz, ERC y EH Bild...   \n",
              "4  ID      0  Puigdemont: 'No sería ninguna tragedia una rep...   \n",
              "\n",
              "                                         Descripcion       Fecha  \\\n",
              "0  [El, diario, británico, publicó, este, pasado,...  02/06/2023   \n",
              "1  [REVELAN, QUE, EL, GOBIERNO, NEGOCIO, LA, LIBE...  01/10/2023   \n",
              "2  [El, valencianismo, convoca, en, Castelló, su,...  25/04/2022   \n",
              "3  [En, política, ,, igual, que, hay, que, negoci...  03/01/2022   \n",
              "4  [En, una, entrevista, en, El, Punt, Avui, ,, e...  09/03/2018   \n",
              "\n",
              "                                    Titulo_procesado  \\\n",
              "0  the guardian va sanchez europa necesita apuest...   \n",
              "1  revelan gobierno negocio liberacion mireles ca...   \n",
              "2  ahora nunca joan fuster estatuto valenciano cu...   \n",
              "3  iglesias alienta yolanda diaz erc eh bildu neg...   \n",
              "4  puigdemont seria ninguna tragedia repeticion e...   \n",
              "\n",
              "                                        Descripcion1  \n",
              "0  [diario, britanico, publico, pasado, jueves, e...  \n",
              "1  [revelan, gobierno, negocio, liberacion, mirel...  \n",
              "2  [valencianismo, convoca, castello, fiesta, gra...  \n",
              "3  [politica, igual, negociar, empresarios, negoc...  \n",
              "4  [entrevista, punt, avui, lider, jxcat, desdram...  "
            ]
          },
          "execution_count": 36,
          "metadata": {},
          "output_type": "execute_result"
        }
      ],
      "source": [
        "data_t['Descripcion1']=data_t['Descripcion'].apply(preprocessing) #Aplica la eliminación del ruido\n",
        "\n",
        "data_t.head()\n"
      ]
    },
    {
      "cell_type": "markdown",
      "metadata": {
        "id": "pY4r8MTwMa6b"
      },
      "source": [
        "## Normalizacion\n",
        "\n",
        "En la normalización de los datos se realiza la eliminación de prefijos y sufijos, además de realizar una lemmatización."
      ]
    },
    {
      "cell_type": "code",
      "execution_count": 37,
      "metadata": {
        "id": "H1BDtnibNG4_"
      },
      "outputs": [
        {
          "data": {
            "text/html": [
              "<div>\n",
              "<style scoped>\n",
              "    .dataframe tbody tr th:only-of-type {\n",
              "        vertical-align: middle;\n",
              "    }\n",
              "\n",
              "    .dataframe tbody tr th {\n",
              "        vertical-align: top;\n",
              "    }\n",
              "\n",
              "    .dataframe thead th {\n",
              "        text-align: right;\n",
              "    }\n",
              "</style>\n",
              "<table border=\"1\" class=\"dataframe\">\n",
              "  <thead>\n",
              "    <tr style=\"text-align: right;\">\n",
              "      <th></th>\n",
              "      <th>ID</th>\n",
              "      <th>Label</th>\n",
              "      <th>Titulo</th>\n",
              "      <th>Descripcion</th>\n",
              "      <th>Fecha</th>\n",
              "      <th>Titulo_procesado</th>\n",
              "      <th>Descripcion1</th>\n",
              "    </tr>\n",
              "  </thead>\n",
              "  <tbody>\n",
              "    <tr>\n",
              "      <th>0</th>\n",
              "      <td>ID</td>\n",
              "      <td>1</td>\n",
              "      <td>'The Guardian' va con Sánchez: 'Europa necesit...</td>\n",
              "      <td>[el, diario, británico, publicó, est, pasado, ...</td>\n",
              "      <td>02/06/2023</td>\n",
              "      <td>the guardian va sanchez europa necesita apuest...</td>\n",
              "      <td>[diario, britanico, publico, pasado, jueves, e...</td>\n",
              "    </tr>\n",
              "    <tr>\n",
              "      <th>1</th>\n",
              "      <td>ID</td>\n",
              "      <td>0</td>\n",
              "      <td>REVELAN QUE EL GOBIERNO NEGOCIO LA LIBERACIÓN ...</td>\n",
              "      <td>[revel, que, el, gobierno, negocio, la, libera...</td>\n",
              "      <td>01/10/2023</td>\n",
              "      <td>revelan gobierno negocio liberacion mireles ca...</td>\n",
              "      <td>[revelan, gobierno, negocio, liberacion, mirel...</td>\n",
              "    </tr>\n",
              "    <tr>\n",
              "      <th>2</th>\n",
              "      <td>ID</td>\n",
              "      <td>1</td>\n",
              "      <td>El 'Ahora o nunca' de Joan Fuster sobre el est...</td>\n",
              "      <td>[el, valencianismo, convoc, en, castelló, su, ...</td>\n",
              "      <td>25/04/2022</td>\n",
              "      <td>ahora nunca joan fuster estatuto valenciano cu...</td>\n",
              "      <td>[valencianismo, convoca, castello, fiesta, gra...</td>\n",
              "    </tr>\n",
              "    <tr>\n",
              "      <th>3</th>\n",
              "      <td>ID</td>\n",
              "      <td>1</td>\n",
              "      <td>Iglesias alienta a Yolanda Díaz, ERC y EH Bild...</td>\n",
              "      <td>[en, polític, ,, ig, que, hay, que, negoci, co...</td>\n",
              "      <td>03/01/2022</td>\n",
              "      <td>iglesias alienta yolanda diaz erc eh bildu neg...</td>\n",
              "      <td>[politica, igual, negociar, empresarios, negoc...</td>\n",
              "    </tr>\n",
              "    <tr>\n",
              "      <th>4</th>\n",
              "      <td>ID</td>\n",
              "      <td>0</td>\n",
              "      <td>Puigdemont: 'No sería ninguna tragedia una rep...</td>\n",
              "      <td>[en, un, entrevist, en, el, punt, avu, ,, el, ...</td>\n",
              "      <td>09/03/2018</td>\n",
              "      <td>puigdemont seria ninguna tragedia repeticion e...</td>\n",
              "      <td>[entrevista, punt, avui, lider, jxcat, desdram...</td>\n",
              "    </tr>\n",
              "  </tbody>\n",
              "</table>\n",
              "</div>"
            ],
            "text/plain": [
              "   ID  Label                                             Titulo  \\\n",
              "0  ID      1  'The Guardian' va con Sánchez: 'Europa necesit...   \n",
              "1  ID      0  REVELAN QUE EL GOBIERNO NEGOCIO LA LIBERACIÓN ...   \n",
              "2  ID      1  El 'Ahora o nunca' de Joan Fuster sobre el est...   \n",
              "3  ID      1  Iglesias alienta a Yolanda Díaz, ERC y EH Bild...   \n",
              "4  ID      0  Puigdemont: 'No sería ninguna tragedia una rep...   \n",
              "\n",
              "                                         Descripcion       Fecha  \\\n",
              "0  [el, diario, británico, publicó, est, pasado, ...  02/06/2023   \n",
              "1  [revel, que, el, gobierno, negocio, la, libera...  01/10/2023   \n",
              "2  [el, valencianismo, convoc, en, castelló, su, ...  25/04/2022   \n",
              "3  [en, polític, ,, ig, que, hay, que, negoci, co...  03/01/2022   \n",
              "4  [en, un, entrevist, en, el, punt, avu, ,, el, ...  09/03/2018   \n",
              "\n",
              "                                    Titulo_procesado  \\\n",
              "0  the guardian va sanchez europa necesita apuest...   \n",
              "1  revelan gobierno negocio liberacion mireles ca...   \n",
              "2  ahora nunca joan fuster estatuto valenciano cu...   \n",
              "3  iglesias alienta yolanda diaz erc eh bildu neg...   \n",
              "4  puigdemont seria ninguna tragedia repeticion e...   \n",
              "\n",
              "                                        Descripcion1  \n",
              "0  [diario, britanico, publico, pasado, jueves, e...  \n",
              "1  [revelan, gobierno, negocio, liberacion, mirel...  \n",
              "2  [valencianismo, convoca, castello, fiesta, gra...  \n",
              "3  [politica, igual, negociar, empresarios, negoc...  \n",
              "4  [entrevista, punt, avui, lider, jxcat, desdram...  "
            ]
          },
          "execution_count": 37,
          "metadata": {},
          "output_type": "execute_result"
        }
      ],
      "source": [
        "# Stem_words y de Lemmatize_verbs\n",
        "\n",
        "def stem_words(words):\n",
        "    \"\"\"Stem words in list of tokenized words\"\"\"\n",
        "    stemmer = LancasterStemmer()\n",
        "    stems = []\n",
        "    for word in words:\n",
        "        stem = stemmer.stem(word)\n",
        "        stems.append(stem)\n",
        "    return stems\n",
        "\n",
        "def lemmatize_verbs(words):\n",
        "    \"\"\"Lemmatize verbs in list of tokenized words\"\"\"\n",
        "    lemmatizer = WordNetLemmatizer()\n",
        "    lemmas = []\n",
        "    for word in words:\n",
        "        lemma = lemmatizer.lemmatize(word, pos='v')\n",
        "        lemmas.append(lemma)\n",
        "    return lemmas\n",
        "\n",
        "def stem_and_lemmatize(words):\n",
        "    stems = stem_words(words)\n",
        "    lemmas = lemmatize_verbs(words)\n",
        "    return stems + lemmas\n",
        "\n",
        "# Call the function after it has been defined\n",
        "data_t['Descripcion'] = data_t['Descripcion'].apply(stem_and_lemmatize) #Aplica lematización y Eliminación de Prefijos y Sufijos.\n",
        "data_t.head()"
      ]
    },
    {
      "cell_type": "markdown",
      "metadata": {
        "id": "ZhtpRBmaSclJ"
      },
      "source": [
        "##Seleccion de campos"
      ]
    },
    {
      "cell_type": "code",
      "execution_count": 38,
      "metadata": {
        "id": "Af-HXIMbSlGA"
      },
      "outputs": [
        {
          "data": {
            "text/html": [
              "<div>\n",
              "<style scoped>\n",
              "    .dataframe tbody tr th:only-of-type {\n",
              "        vertical-align: middle;\n",
              "    }\n",
              "\n",
              "    .dataframe tbody tr th {\n",
              "        vertical-align: top;\n",
              "    }\n",
              "\n",
              "    .dataframe thead th {\n",
              "        text-align: right;\n",
              "    }\n",
              "</style>\n",
              "<table border=\"1\" class=\"dataframe\">\n",
              "  <thead>\n",
              "    <tr style=\"text-align: right;\">\n",
              "      <th></th>\n",
              "      <th>ID</th>\n",
              "      <th>Label</th>\n",
              "      <th>Titulo</th>\n",
              "      <th>Descripcion</th>\n",
              "      <th>Fecha</th>\n",
              "      <th>Titulo_procesado</th>\n",
              "      <th>Descripcion1</th>\n",
              "    </tr>\n",
              "  </thead>\n",
              "  <tbody>\n",
              "    <tr>\n",
              "      <th>0</th>\n",
              "      <td>ID</td>\n",
              "      <td>1</td>\n",
              "      <td>'The Guardian' va con Sánchez: 'Europa necesit...</td>\n",
              "      <td>el diario británico publicó est pasado juev un...</td>\n",
              "      <td>02/06/2023</td>\n",
              "      <td>the guardian va sanchez europa necesita apuest...</td>\n",
              "      <td>[diario, britanico, publico, pasado, jueves, e...</td>\n",
              "    </tr>\n",
              "    <tr>\n",
              "      <th>1</th>\n",
              "      <td>ID</td>\n",
              "      <td>0</td>\n",
              "      <td>REVELAN QUE EL GOBIERNO NEGOCIO LA LIBERACIÓN ...</td>\n",
              "      <td>revel que el gobierno negocio la liberación de...</td>\n",
              "      <td>01/10/2023</td>\n",
              "      <td>revelan gobierno negocio liberacion mireles ca...</td>\n",
              "      <td>[revelan, gobierno, negocio, liberacion, mirel...</td>\n",
              "    </tr>\n",
              "    <tr>\n",
              "      <th>2</th>\n",
              "      <td>ID</td>\n",
              "      <td>1</td>\n",
              "      <td>El 'Ahora o nunca' de Joan Fuster sobre el est...</td>\n",
              "      <td>el valencianismo convoc en castelló su fiest g...</td>\n",
              "      <td>25/04/2022</td>\n",
              "      <td>ahora nunca joan fuster estatuto valenciano cu...</td>\n",
              "      <td>[valencianismo, convoca, castello, fiesta, gra...</td>\n",
              "    </tr>\n",
              "    <tr>\n",
              "      <th>3</th>\n",
              "      <td>ID</td>\n",
              "      <td>1</td>\n",
              "      <td>Iglesias alienta a Yolanda Díaz, ERC y EH Bild...</td>\n",
              "      <td>en polític , ig que hay que negoci con los emp...</td>\n",
              "      <td>03/01/2022</td>\n",
              "      <td>iglesias alienta yolanda diaz erc eh bildu neg...</td>\n",
              "      <td>[politica, igual, negociar, empresarios, negoc...</td>\n",
              "    </tr>\n",
              "    <tr>\n",
              "      <th>4</th>\n",
              "      <td>ID</td>\n",
              "      <td>0</td>\n",
              "      <td>Puigdemont: 'No sería ninguna tragedia una rep...</td>\n",
              "      <td>en un entrevist en el punt avu , el líder de j...</td>\n",
              "      <td>09/03/2018</td>\n",
              "      <td>puigdemont seria ninguna tragedia repeticion e...</td>\n",
              "      <td>[entrevista, punt, avui, lider, jxcat, desdram...</td>\n",
              "    </tr>\n",
              "    <tr>\n",
              "      <th>...</th>\n",
              "      <td>...</td>\n",
              "      <td>...</td>\n",
              "      <td>...</td>\n",
              "      <td>...</td>\n",
              "      <td>...</td>\n",
              "      <td>...</td>\n",
              "      <td>...</td>\n",
              "    </tr>\n",
              "    <tr>\n",
              "      <th>57058</th>\n",
              "      <td>ID</td>\n",
              "      <td>1</td>\n",
              "      <td>El Defensor del Pueblo reclama a la Comunidad ...</td>\n",
              "      <td>el gobierno reg han indicado que la atención e...</td>\n",
              "      <td>08/06/2021</td>\n",
              "      <td>defensor pueblo reclama comunidad madrid datos...</td>\n",
              "      <td>[gobierno, regional, indicado, atencion, dia, ...</td>\n",
              "    </tr>\n",
              "    <tr>\n",
              "      <th>57059</th>\n",
              "      <td>ID</td>\n",
              "      <td>0</td>\n",
              "      <td>El EQUO plantea ceder la presidencia de la Com...</td>\n",
              "      <td>si la higy democrátic nos llev a es exigenc de...</td>\n",
              "      <td>08/09/2020</td>\n",
              "      <td>equo plantea ceder presidencia comunidad madri...</td>\n",
              "      <td>[si, higiene, democratica, lleva, exigencia, t...</td>\n",
              "    </tr>\n",
              "    <tr>\n",
              "      <th>57060</th>\n",
              "      <td>ID</td>\n",
              "      <td>1</td>\n",
              "      <td>Alberto Garzón: 'Que los Borbones son unos lad...</td>\n",
              "      <td>el coordinad fed de iu asegur que la monarquí ...</td>\n",
              "      <td>12/07/2018</td>\n",
              "      <td>alberto garzon borbones ladrones hecho histori...</td>\n",
              "      <td>[coordinador, federal, iu, asegura, monarquia,...</td>\n",
              "    </tr>\n",
              "    <tr>\n",
              "      <th>57061</th>\n",
              "      <td>ID</td>\n",
              "      <td>1</td>\n",
              "      <td>Vox exige entrar en el Gobierno de Castilla y ...</td>\n",
              "      <td>santiago abasc : vox tien el derecho y el deb ...</td>\n",
              "      <td>13/02/2022</td>\n",
              "      <td>vox exige entrar gobierno castilla leon cara v...</td>\n",
              "      <td>[santiago, abascal, vox, derecho, deber, forma...</td>\n",
              "    </tr>\n",
              "    <tr>\n",
              "      <th>57062</th>\n",
              "      <td>ID</td>\n",
              "      <td>1</td>\n",
              "      <td>Unas 300 personas protestan contra la visita d...</td>\n",
              "      <td>los mosso desquadr han blindado los alr de la ...</td>\n",
              "      <td>09/10/2020</td>\n",
              "      <td>unas three hundred personas protestan visita r...</td>\n",
              "      <td>[mossos, desquadra, blindado, alrededores, est...</td>\n",
              "    </tr>\n",
              "  </tbody>\n",
              "</table>\n",
              "<p>57063 rows × 7 columns</p>\n",
              "</div>"
            ],
            "text/plain": [
              "       ID  Label                                             Titulo  \\\n",
              "0      ID      1  'The Guardian' va con Sánchez: 'Europa necesit...   \n",
              "1      ID      0  REVELAN QUE EL GOBIERNO NEGOCIO LA LIBERACIÓN ...   \n",
              "2      ID      1  El 'Ahora o nunca' de Joan Fuster sobre el est...   \n",
              "3      ID      1  Iglesias alienta a Yolanda Díaz, ERC y EH Bild...   \n",
              "4      ID      0  Puigdemont: 'No sería ninguna tragedia una rep...   \n",
              "...    ..    ...                                                ...   \n",
              "57058  ID      1  El Defensor del Pueblo reclama a la Comunidad ...   \n",
              "57059  ID      0  El EQUO plantea ceder la presidencia de la Com...   \n",
              "57060  ID      1  Alberto Garzón: 'Que los Borbones son unos lad...   \n",
              "57061  ID      1  Vox exige entrar en el Gobierno de Castilla y ...   \n",
              "57062  ID      1  Unas 300 personas protestan contra la visita d...   \n",
              "\n",
              "                                             Descripcion       Fecha  \\\n",
              "0      el diario británico publicó est pasado juev un...  02/06/2023   \n",
              "1      revel que el gobierno negocio la liberación de...  01/10/2023   \n",
              "2      el valencianismo convoc en castelló su fiest g...  25/04/2022   \n",
              "3      en polític , ig que hay que negoci con los emp...  03/01/2022   \n",
              "4      en un entrevist en el punt avu , el líder de j...  09/03/2018   \n",
              "...                                                  ...         ...   \n",
              "57058  el gobierno reg han indicado que la atención e...  08/06/2021   \n",
              "57059  si la higy democrátic nos llev a es exigenc de...  08/09/2020   \n",
              "57060  el coordinad fed de iu asegur que la monarquí ...  12/07/2018   \n",
              "57061  santiago abasc : vox tien el derecho y el deb ...  13/02/2022   \n",
              "57062  los mosso desquadr han blindado los alr de la ...  09/10/2020   \n",
              "\n",
              "                                        Titulo_procesado  \\\n",
              "0      the guardian va sanchez europa necesita apuest...   \n",
              "1      revelan gobierno negocio liberacion mireles ca...   \n",
              "2      ahora nunca joan fuster estatuto valenciano cu...   \n",
              "3      iglesias alienta yolanda diaz erc eh bildu neg...   \n",
              "4      puigdemont seria ninguna tragedia repeticion e...   \n",
              "...                                                  ...   \n",
              "57058  defensor pueblo reclama comunidad madrid datos...   \n",
              "57059  equo plantea ceder presidencia comunidad madri...   \n",
              "57060  alberto garzon borbones ladrones hecho histori...   \n",
              "57061  vox exige entrar gobierno castilla leon cara v...   \n",
              "57062  unas three hundred personas protestan visita r...   \n",
              "\n",
              "                                            Descripcion1  \n",
              "0      [diario, britanico, publico, pasado, jueves, e...  \n",
              "1      [revelan, gobierno, negocio, liberacion, mirel...  \n",
              "2      [valencianismo, convoca, castello, fiesta, gra...  \n",
              "3      [politica, igual, negociar, empresarios, negoc...  \n",
              "4      [entrevista, punt, avui, lider, jxcat, desdram...  \n",
              "...                                                  ...  \n",
              "57058  [gobierno, regional, indicado, atencion, dia, ...  \n",
              "57059  [si, higiene, democratica, lleva, exigencia, t...  \n",
              "57060  [coordinador, federal, iu, asegura, monarquia,...  \n",
              "57061  [santiago, abascal, vox, derecho, deber, forma...  \n",
              "57062  [mossos, desquadra, blindado, alrededores, est...  \n",
              "\n",
              "[57063 rows x 7 columns]"
            ]
          },
          "execution_count": 38,
          "metadata": {},
          "output_type": "execute_result"
        }
      ],
      "source": [
        "data_t['Descripcion'] = data_t['Descripcion'].apply(lambda x: ' '.join(map(str, x)))\n",
        "data_t"
      ]
    },
    {
      "cell_type": "code",
      "execution_count": 39,
      "metadata": {
        "id": "LPM1oWjRSsDc"
      },
      "outputs": [
        {
          "data": {
            "text/plain": [
              "0        0\n",
              "1        0\n",
              "2        0\n",
              "3        0\n",
              "4        0\n",
              "        ..\n",
              "57058    0\n",
              "57059    0\n",
              "57060    0\n",
              "57061    0\n",
              "57062    0\n",
              "Name: Label, Length: 57063, dtype: int64"
            ]
          },
          "execution_count": 39,
          "metadata": {},
          "output_type": "execute_result"
        }
      ],
      "source": [
        "X_data, y_data = data_t['Descripcion'],data_t['Label']\n",
        "y_data = (y_data == 'spam').astype(int)\n",
        "y_data"
      ]
    },
    {
      "cell_type": "code",
      "execution_count": 40,
      "metadata": {
        "id": "A6dUJNJLS3vY"
      },
      "outputs": [
        {
          "name": "stdout",
          "output_type": "stream",
          "text": [
            "(57063, 62245)\n"
          ]
        },
        {
          "data": {
            "text/plain": [
              "array([0, 0, 0, ..., 0, 0, 0])"
            ]
          },
          "execution_count": 40,
          "metadata": {},
          "output_type": "execute_result"
        }
      ],
      "source": [
        "dummy = CountVectorizer(binary=True)\n",
        "X_dummy = dummy.fit_transform(X_data)\n",
        "print(X_dummy.shape)\n",
        "X_dummy.toarray()[0]"
      ]
    },
    {
      "cell_type": "code",
      "execution_count": 41,
      "metadata": {
        "id": "rfC0G0kfTRS4"
      },
      "outputs": [
        {
          "name": "stdout",
          "output_type": "stream",
          "text": [
            "(57063, 62245)\n"
          ]
        },
        {
          "data": {
            "text/plain": [
              "array([0, 0, 0, ..., 0, 0, 0])"
            ]
          },
          "execution_count": 41,
          "metadata": {},
          "output_type": "execute_result"
        }
      ],
      "source": [
        "count = CountVectorizer()\n",
        "X_count = count.fit_transform(X_data)\n",
        "print(X_count.shape)\n",
        "X_count.toarray()[0]"
      ]
    },
    {
      "cell_type": "markdown",
      "metadata": {
        "id": "RJrdhcA7Tlmz"
      },
      "source": [
        "# Creacion y aplicaicon del modelo"
      ]
    },
    {
      "cell_type": "code",
      "execution_count": 42,
      "metadata": {
        "id": "3MI44icXTygc"
      },
      "outputs": [
        {
          "name": "stdout",
          "output_type": "stream",
          "text": [
            "Accuracy of RandomForestClassifier: 1.0\n",
            "              precision    recall  f1-score   support\n",
            "\n",
            "           0       1.00      1.00      1.00     11413\n",
            "\n",
            "    accuracy                           1.00     11413\n",
            "   macro avg       1.00      1.00      1.00     11413\n",
            "weighted avg       1.00      1.00      1.00     11413\n",
            "\n"
          ]
        }
      ],
      "source": [
        "# prompt: Precisión del modelo con RandomForest\n",
        "\n",
        "from sklearn.model_selection import train_test_split\n",
        "from sklearn.ensemble import RandomForestClassifier\n",
        "from sklearn.metrics import accuracy_score\n",
        "\n",
        "# Assuming X_data and y_data are defined from the previous code\n",
        "X_train, X_test, y_train, y_test = train_test_split(X_count, y_data, test_size=0.2, random_state=42)\n",
        "\n",
        "# Initialize and train the RandomForestClassifier\n",
        "rf_classifier = RandomForestClassifier(n_estimators=100, random_state=42) # You can adjust hyperparameters\n",
        "rf_classifier.fit(X_train, y_train)\n",
        "\n",
        "# Make predictions on the test set\n",
        "y_pred = rf_classifier.predict(X_test)\n",
        "\n",
        "# Evaluate the model\n",
        "accuracy = accuracy_score(y_test, y_pred)\n",
        "print(f\"Accuracy of RandomForestClassifier: {accuracy}\")\n",
        "\n",
        "# Print classification report for more detailed evaluation\n",
        "from sklearn.metrics import classification_report\n",
        "print(classification_report(y_test, y_pred))\n"
      ]
    }
  ],
  "metadata": {
    "colab": {
      "provenance": []
    },
    "kernelspec": {
      "display_name": "Python 3",
      "name": "python3"
    },
    "language_info": {
      "codemirror_mode": {
        "name": "ipython",
        "version": 3
      },
      "file_extension": ".py",
      "mimetype": "text/x-python",
      "name": "python",
      "nbconvert_exporter": "python",
      "pygments_lexer": "ipython3",
      "version": "3.12.4"
    }
  },
  "nbformat": 4,
  "nbformat_minor": 0
}
